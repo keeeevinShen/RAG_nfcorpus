{
 "cells": [
  {
   "cell_type": "code",
   "execution_count": 1,
   "id": "0f750289",
   "metadata": {},
   "outputs": [
    {
     "name": "stdout",
     "output_type": "stream",
     "text": [
      "Token loaded: Yes\n"
     ]
    }
   ],
   "source": [
    "import os\n",
    "from dotenv import load_dotenv\n",
    "\n",
    "# Load environment variables from .env file\n",
    "load_dotenv()\n",
    "\n",
    "# Get the token from environment\n",
    "token = os.getenv(\"HUGGING_FACE_HUB_TOKEN\")\n",
    "print(f\"Token loaded: {'Yes' if token else 'No'}\")"
   ]
  },
  {
   "cell_type": "code",
   "execution_count": 2,
   "id": "74e0195b",
   "metadata": {},
   "outputs": [
    {
     "name": "stderr",
     "output_type": "stream",
     "text": [
      "/Users/shenhao/Desktop/RAG_system/.venv/lib/python3.9/site-packages/urllib3/__init__.py:35: NotOpenSSLWarning: urllib3 v2 only supports OpenSSL 1.1.1+, currently the 'ssl' module is compiled with 'LibreSSL 2.8.3'. See: https://github.com/urllib3/urllib3/issues/3020\n",
      "  warnings.warn(\n",
      "/Users/shenhao/Desktop/RAG_system/.venv/lib/python3.9/site-packages/tqdm/auto.py:21: TqdmWarning: IProgress not found. Please update jupyter and ipywidgets. See https://ipywidgets.readthedocs.io/en/stable/user_install.html\n",
      "  from .autonotebook import tqdm as notebook_tqdm\n",
      "Note: Environment variable`HF_TOKEN` is set and is the current active token independently from the token you've just configured.\n"
     ]
    },
    {
     "name": "stdout",
     "output_type": "stream",
     "text": [
      "Successfully logged in to Hugging Face!\n"
     ]
    }
   ],
   "source": [
    "from huggingface_hub import login\n",
    "\n",
    "# Login using the token from .env\n",
    "login(token)\n",
    "print(\"Successfully logged in to Hugging Face!\")"
   ]
  },
  {
   "cell_type": "code",
   "execution_count": 3,
   "id": "88e565c5",
   "metadata": {},
   "outputs": [
    {
     "name": "stderr",
     "output_type": "stream",
     "text": [
      "Generating train split: 100%|██████████| 110575/110575 [00:00<00:00, 1575656.93 examples/s]\n",
      "Generating validation split: 100%|██████████| 11385/11385 [00:00<00:00, 1055156.25 examples/s]\n",
      "Generating test split: 100%|██████████| 12334/12334 [00:00<00:00, 354640.99 examples/s]\n"
     ]
    },
    {
     "name": "stdout",
     "output_type": "stream",
     "text": [
      "Dataset loaded successfully! Shape: (110575, 3)\n",
      "Columns: ['query-id', 'corpus-id', 'score']\n",
      "\n",
      "First few rows:\n",
      "  query-id corpus-id  score\n",
      "0  PLAIN-3  MED-2436      1\n",
      "1  PLAIN-3  MED-2437      1\n",
      "2  PLAIN-3  MED-2438      1\n",
      "3  PLAIN-3  MED-2439      1\n",
      "4  PLAIN-3  MED-2440      1\n"
     ]
    }
   ],
   "source": [
    "import pandas as pd\n",
    "from datasets import load_dataset\n",
    "\n",
    "# Load the dataset using the datasets library (no need for hf:// protocol)\n",
    "dataset = load_dataset(\"BeIR/nfcorpus-qrels\", split=\"train\")\n",
    "\n",
    "# Access the corpus\n",
    "train_Data = dataset\n",
    "\n",
    "# Convert to pandas DataFrame if needed\n",
    "df = pd.DataFrame(train_Data)\n",
    "\n",
    "print(f\"Dataset loaded successfully! Shape: {df.shape}\")\n",
    "print(f\"Columns: {df.columns.tolist()}\")\n",
    "print(\"\\nFirst few rows:\")\n",
    "print(df.head())"
   ]
  },
  {
   "cell_type": "code",
   "execution_count": 4,
   "id": "f3808166",
   "metadata": {},
   "outputs": [
    {
     "name": "stdout",
     "output_type": "stream",
     "text": [
      "train saved to train.csv\n"
     ]
    }
   ],
   "source": [
    "df.to_csv(\"train.csv\",index=False)\n",
    "print(\"train saved to train.csv\")"
   ]
  },
  {
   "cell_type": "code",
   "execution_count": 5,
   "id": "4d331236",
   "metadata": {},
   "outputs": [
    {
     "name": "stdout",
     "output_type": "stream",
     "text": [
      "test data saved to test.csv \n"
     ]
    }
   ],
   "source": [
    "dataset2 = load_dataset(\"BeIR/nfcorpus-qrels\", split=\"test\")\n",
    "test_data = dataset2\n",
    "df2 = pd.DataFrame(test_data)\n",
    "df2.to_csv(\"test.csv\",index=False)\n",
    "print(\"test data saved to test.csv \")"
   ]
  },
  {
   "cell_type": "code",
   "execution_count": 6,
   "id": "ea162ed6",
   "metadata": {},
   "outputs": [
    {
     "name": "stdout",
     "output_type": "stream",
     "text": [
      "validation data saved to validation.csv \n"
     ]
    }
   ],
   "source": [
    "dataset3 = load_dataset(\"BeIR/nfcorpus-qrels\", split=\"validation\")\n",
    "df3 = pd.DataFrame(dataset3)\n",
    "df3.to_csv(\"validation.csv\",index=False)\n",
    "print(\"validation data saved to validation.csv \")"
   ]
  },
  {
   "cell_type": "code",
   "execution_count": null,
   "id": "93ca5554",
   "metadata": {},
   "outputs": [],
   "source": []
  }
 ],
 "metadata": {
  "kernelspec": {
   "display_name": ".venv",
   "language": "python",
   "name": "python3"
  },
  "language_info": {
   "codemirror_mode": {
    "name": "ipython",
    "version": 3
   },
   "file_extension": ".py",
   "mimetype": "text/x-python",
   "name": "python",
   "nbconvert_exporter": "python",
   "pygments_lexer": "ipython3",
   "version": "3.9.6"
  }
 },
 "nbformat": 4,
 "nbformat_minor": 5
}
