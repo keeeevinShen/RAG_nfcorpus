{
 "cells": [
  {
   "cell_type": "code",
   "execution_count": 1,
   "id": "b86118d8",
   "metadata": {},
   "outputs": [
    {
     "name": "stderr",
     "output_type": "stream",
     "text": [
      "/Users/shenhao/Desktop/RAG_system/.venv/lib/python3.9/site-packages/urllib3/__init__.py:35: NotOpenSSLWarning: urllib3 v2 only supports OpenSSL 1.1.1+, currently the 'ssl' module is compiled with 'LibreSSL 2.8.3'. See: https://github.com/urllib3/urllib3/issues/3020\n",
      "  warnings.warn(\n",
      "/Users/shenhao/Desktop/RAG_system/.venv/lib/python3.9/site-packages/tqdm/auto.py:21: TqdmWarning: IProgress not found. Please update jupyter and ipywidgets. See https://ipywidgets.readthedocs.io/en/stable/user_install.html\n",
      "  from .autonotebook import tqdm as notebook_tqdm\n"
     ]
    }
   ],
   "source": [
    "import os\n",
    "import time\n",
    "from typing import List, Dict, Tuple\n",
    "\n",
    "import cohere\n",
    "import faiss\n",
    "import google.generativeai as genai\n",
    "import numpy as np\n",
    "import pandas as pd\n",
    "import optuna\n",
    "from dotenv import load_dotenv\n",
    "from langchain_community.embeddings import HuggingFaceEmbeddings\n",
    "from langchain_experimental.text_splitter import SemanticChunker\n",
    "from rank_bm25 import BM25Okapi\n",
    "\n",
    "# Load environment variables from a .env file\n",
    "load_dotenv()\n",
    "\n",
    "# Configure the Google Generative AI client\n",
    "try:\n",
    "    genai.configure(api_key=os.getenv('GEMINI_API_KEY'))\n",
    "except Exception as e:\n",
    "    print(f\"Error configuring Google Generative AI: {e}\")\n",
    "    # Exit or handle the error as appropriate\n",
    "    exit()\n",
    "\n",
    "class ImprovedRAG:\n",
    "    \"\"\"\n",
    "    A RAG (Retrieval-Augmented Generation) system with improved retrieval strategies.\n",
    "    This class handles document embedding, indexing, and answer generation.\n",
    "    \"\"\"\n",
    "    def __init__(self, embedding_dim: int = 384):\n",
    "        \"\"\"\n",
    "        Initializes the RAG system.\n",
    "\n",
    "        Args:\n",
    "            embedding_dim (int): The dimension of the text embeddings.\n",
    "        \"\"\"\n",
    "        self.embedding_dim = embedding_dim\n",
    "        # Initialize a FAISS index for efficient similarity search\n",
    "        self.index = faiss.IndexFlatL2(embedding_dim)\n",
    "        # Load a pre-trained model for creating text embeddings\n",
    "        self.embedding_model = HuggingFaceEmbeddings(model_name=\"all-MiniLM-L6-v2\")\n",
    "        # Store document metadata\n",
    "        self.documents: List[Dict] = []\n",
    "        # Initialize the Cohere client for re-ranking\n",
    "        self.cohere_client = cohere.Client(os.getenv('COHERE_API_KEY'))\n",
    "        # BM25 index will be created when documents are added\n",
    "        self.bm25 = None\n",
    "        # Store tokenized documents for the BM25 index\n",
    "        self.tokenized_docs = []\n",
    "        print(f\"RAG system initialized with embedding dimension: {embedding_dim}\")\n",
    "\n",
    "    def embed_text_batch(self, texts: List[str]) -> np.ndarray:\n",
    "        \"\"\"\n",
    "        Generates embeddings for a list of texts in batches.\n",
    "\n",
    "        Args:\n",
    "            texts (List[str]): A list of text strings to embed.\n",
    "\n",
    "        Returns:\n",
    "            np.ndarray: A numpy array of embeddings.\n",
    "        \"\"\"\n",
    "        embeddings = self.embedding_model.embed_documents(texts)\n",
    "        return np.array(embeddings, dtype='float32')\n",
    "\n",
    "    def add_documents(self, documents_df: pd.DataFrame):\n",
    "        \"\"\"\n",
    "        Processes and adds documents to the RAG system using semantic chunking.\n",
    "\n",
    "        Args:\n",
    "            documents_df (pd.DataFrame): DataFrame containing the documents to add.\n",
    "                                         It must have '_id', 'title', and 'text' columns.\n",
    "        \"\"\"\n",
    "        print(\"Loading local embedding model for semantic chunking...\")\n",
    "        # Use semantic chunking to split documents based on meaning\n",
    "        splitter = SemanticChunker(\n",
    "            embeddings=self.embedding_model,\n",
    "            breakpoint_threshold_type=\"percentile\",\n",
    "            breakpoint_threshold_amount=95\n",
    "        )\n",
    "\n",
    "        texts_to_embed = []\n",
    "        chunks_meta = []\n",
    "        tokenized_chunks = []\n",
    "\n",
    "        # Iterate over the documents and create chunks\n",
    "        for _id, title, text in documents_df[['_id', 'title', 'text']].itertuples(index=False, name=None):\n",
    "            chunks = splitter.split_text(text)\n",
    "            for chunk in chunks:\n",
    "                full_text = f\"Title: {title}\\n\\n{chunk}\"\n",
    "                texts_to_embed.append(full_text)\n",
    "                chunks_meta.append({'original_doc_id': _id, 'title': title, 'text': chunk})\n",
    "                tokenized_chunks.append((title + \" \" + chunk).lower().split())\n",
    "\n",
    "        # Generate embeddings and add them to the FAISS index\n",
    "        if texts_to_embed:\n",
    "            embeddings = self.embed_text_batch(texts_to_embed)\n",
    "            self.index.add(embeddings)\n",
    "\n",
    "        # Build the BM25 index for keyword-based search\n",
    "        self.tokenized_docs.extend(tokenized_chunks)\n",
    "        self.bm25 = BM25Okapi(self.tokenized_docs)\n",
    "        self.documents.extend(chunks_meta)\n",
    "        print(f\"Added {len(chunks_meta)} chunks. Index size: {self.index.ntotal}\")\n",
    "        print(f\"BM25 index built with {len(self.tokenized_docs)} documents\")\n",
    "\n",
    "    def retrieve(self, query: str, k: int = 3) -> List[Tuple[Dict, float]]:\n",
    "        \"\"\"\n",
    "        Retrieves relevant documents for a given query using a hybrid approach.\n",
    "\n",
    "        Args:\n",
    "            query (str): The user's query.\n",
    "            k (int): The final number of documents to return.\n",
    "\n",
    "        Returns:\n",
    "            List[Tuple[Dict, float]]: A list of tuples, each containing a document\n",
    "                                     and its relevance score.\n",
    "        \"\"\"\n",
    "        initial_k = 20  # Number of candidates to fetch initially\n",
    "\n",
    "        # 1. Vector Search (FAISS)\n",
    "        query_embedding = self.embed_text_batch([query]).reshape(1, -1)\n",
    "        distances, indices = self.index.search(query_embedding, initial_k)\n",
    "        vector_results = {idx: rank + 1 for rank, (idx, _) in enumerate(zip(indices[0], distances[0])) if idx < len(self.documents)}\n",
    "\n",
    "        # 2. Keyword Search (BM25)\n",
    "        tokenized_query = query.lower().split()\n",
    "        bm25_scores = self.bm25.get_scores(tokenized_query)\n",
    "        top_bm25_indices = np.argsort(bm25_scores)[::-1][:initial_k]\n",
    "        bm25_results = {idx: rank + 1 for rank, idx in enumerate(top_bm25_indices) if idx < len(self.documents)}\n",
    "\n",
    "        # 3. Reciprocal Rank Fusion (RRF) to combine results\n",
    "        rrf_k = 60\n",
    "        rrf_scores = {}\n",
    "        all_indices = set(vector_results.keys()) | set(bm25_results.keys())\n",
    "        for idx in all_indices:\n",
    "            score = 0\n",
    "            if idx in vector_results:\n",
    "                score += 1 / (rrf_k + vector_results[idx])\n",
    "            if idx in bm25_results:\n",
    "                score += 1 / (rrf_k + bm25_results[idx])\n",
    "            rrf_scores[idx] = score\n",
    "\n",
    "        # Sort by RRF score to get the best candidates\n",
    "        sorted_indices = sorted(rrf_scores.keys(), key=lambda x: rrf_scores[x], reverse=True)\n",
    "        top_fused_indices = sorted_indices[:initial_k]\n",
    "\n",
    "        candidates = [{'doc': self.documents[idx], 'text': f\"Title: {self.documents[idx]['title']}\\n{self.documents[idx]['text']}\"} for idx in top_fused_indices]\n",
    "\n",
    "        if not candidates:\n",
    "            return []\n",
    "\n",
    "        # 4. Re-rank with Cohere for final ordering\n",
    "        rerank_docs = [c['text'] for c in candidates]\n",
    "        rerank_results = self.cohere_client.rerank(\n",
    "            query=query,\n",
    "            documents=rerank_docs,\n",
    "            top_n=min(k, len(rerank_docs)),\n",
    "            model='rerank-english-v3.0'\n",
    "        )\n",
    "\n",
    "        final_results = []\n",
    "        for result in rerank_results.results:\n",
    "            original_candidate = candidates[result.index]\n",
    "            final_results.append((original_candidate['doc'], result.relevance_score))\n",
    "\n",
    "        return final_results\n",
    "\n",
    "    def generate_answer(self, query: str, retrieved_docs: List[Tuple[Dict, float]]) -> str:\n",
    "        \"\"\"\n",
    "        Generates an answer using the retrieved documents as context.\n",
    "\n",
    "        Args:\n",
    "            query (str): The user's query.\n",
    "            retrieved_docs (List[Tuple[Dict, float]]): Documents retrieved for the query.\n",
    "\n",
    "        Returns:\n",
    "            str: The generated answer.\n",
    "        \"\"\"\n",
    "        context = \"\\n\\n\".join([f\"Title: {doc['title']}\\n{doc['text']}\" for doc, _ in retrieved_docs])\n",
    "        prompt = f\"\"\"\n",
    "        Context information is provided below.\n",
    "        ---------------------\n",
    "        {context}\n",
    "        ---------------------\n",
    "        Given the context information and not prior knowledge, answer the query.\n",
    "        Query: {query}\n",
    "        Answer:\n",
    "        \"\"\"\n",
    "        try:\n",
    "            model = genai.GenerativeModel('gemini-2.5-flash')\n",
    "            response = model.generate_content(prompt)\n",
    "            return response.text\n",
    "        except Exception as e:\n",
    "            return f\"Error generating answer: {e}\"\n",
    "\n",
    "\n",
    "class TunableRAG(ImprovedRAG):\n",
    "    \"\"\"\n",
    "    An extension of the ImprovedRAG system that allows for hyperparameter tuning.\n",
    "    \"\"\"\n",
    "    def __init__(self, embedding_dim: int = 384):\n",
    "        \"\"\"\n",
    "        Initializes the TunableRAG system.\n",
    "        \"\"\"\n",
    "        super().__init__(embedding_dim)\n",
    "\n",
    "    def add_documents_with_threshold(self, documents_df: pd.DataFrame, breakpoint_threshold_amount: int = 95):\n",
    "        \"\"\"\n",
    "        Adds documents with a configurable semantic chunking threshold.\n",
    "        \"\"\"\n",
    "        self.documents = []\n",
    "        self.tokenized_docs = []\n",
    "        self.index = faiss.IndexFlatL2(self.embedding_dim)\n",
    "\n",
    "        splitter = SemanticChunker(\n",
    "            embeddings=self.embedding_model,\n",
    "            breakpoint_threshold_type=\"percentile\",\n",
    "            breakpoint_threshold_amount=breakpoint_threshold_amount\n",
    "        )\n",
    "\n",
    "        texts_to_embed = []\n",
    "        chunks_meta = []\n",
    "        tokenized_chunks = []\n",
    "\n",
    "        for _id, title, text in documents_df[['_id', 'title', 'text']].itertuples(index=False, name=None):\n",
    "            chunks = splitter.split_text(text)\n",
    "            for chunk in chunks:\n",
    "                full_text = f\"Title: {title}\\n\\n{chunk}\"\n",
    "                texts_to_embed.append(full_text)\n",
    "                chunks_meta.append({'original_doc_id': _id, 'title': title, 'text': chunk})\n",
    "                tokenized_chunks.append((title + \" \" + chunk).lower().split())\n",
    "\n",
    "        if texts_to_embed:\n",
    "            embeddings_array = self.embed_text_batch(texts_to_embed)\n",
    "            self.index.add(embeddings_array)\n",
    "\n",
    "        self.tokenized_docs.extend(tokenized_chunks)\n",
    "        self.bm25 = BM25Okapi(self.tokenized_docs)\n",
    "        self.documents.extend(chunks_meta)\n",
    "\n",
    "    def retrieve_with_params(self, query: str, initial_k: int, final_k: int) -> List[Tuple[Dict, float]]:\n",
    "        \"\"\"\n",
    "        Retrieves documents with configurable k parameters for initial retrieval and final ranking.\n",
    "        \"\"\"\n",
    "        # This method is largely the same as the parent's `retrieve` but uses the passed k values.\n",
    "        query_embedding = self.embed_text_batch([query]).reshape(1, -1)\n",
    "        distances, indices = self.index.search(query_embedding, initial_k)\n",
    "        vector_results = {idx: rank + 1 for rank, idx in enumerate(indices[0]) if idx < len(self.documents)}\n",
    "\n",
    "        tokenized_query = query.lower().split()\n",
    "        bm25_scores = self.bm25.get_scores(tokenized_query)\n",
    "        top_bm25_indices = np.argsort(bm25_scores)[::-1][:initial_k]\n",
    "        bm25_results = {idx: rank + 1 for rank, idx in enumerate(top_bm25_indices)}\n",
    "\n",
    "        rrf_k = 60\n",
    "        rrf_scores = {}\n",
    "        all_indices = set(vector_results.keys()) | set(bm25_results.keys())\n",
    "        for idx in all_indices:\n",
    "            score = 0\n",
    "            if idx in vector_results:\n",
    "                score += 1 / (rrf_k + vector_results[idx])\n",
    "            if idx in bm25_results:\n",
    "                score += 1 / (rrf_k + bm25_results[idx])\n",
    "            rrf_scores[idx] = score\n",
    "\n",
    "        sorted_indices = sorted(rrf_scores.keys(), key=lambda x: rrf_scores[x], reverse=True)\n",
    "        top_fused_indices = sorted_indices[:initial_k]\n",
    "\n",
    "        candidates = [{'doc': self.documents[idx], 'text': f\"Title: {self.documents[idx]['title']}\\n{self.documents[idx]['text']}\"} for idx in top_fused_indices]\n",
    "\n",
    "        if not candidates:\n",
    "            return []\n",
    "\n",
    "        rerank_docs = [c['text'] for c in candidates]\n",
    "        rerank_results = self.cohere_client.rerank(\n",
    "            query=query,\n",
    "            documents=rerank_docs,\n",
    "            top_n=min(final_k, len(rerank_docs)),\n",
    "            model='rerank-english-v3.0'\n",
    "        )\n",
    "\n",
    "        final_results = [(candidates[res.index]['doc'], res.relevance_score) for res in rerank_results.results]\n",
    "        return final_results\n",
    "\n",
    "    def generate_answer_with_temp(self, query: str, retrieved_docs: List[Tuple[Dict, float]], temperature: float) -> str:\n",
    "        \"\"\"\n",
    "        Generates an answer with a configurable temperature for the generative model.\n",
    "        \"\"\"\n",
    "        context = \"\\n\\n\".join([f\"Title: {doc['title']}\\n{doc['text']}\" for doc, _ in retrieved_docs])\n",
    "        prompt = f\"\"\"\n",
    "        Context information is provided below.\n",
    "        ---------------------\n",
    "        {context}\n",
    "        ---------------------\n",
    "        Given the context information and not prior knowledge, answer the query.\n",
    "        Query: {query}\n",
    "        Answer:\n",
    "        \"\"\"\n",
    "        generation_config = genai.types.GenerationConfig(temperature=temperature)\n",
    "        model = genai.GenerativeModel('gemini-2.5-flash')\n",
    "        response = model.generate_content(prompt, generation_config=generation_config)\n",
    "        return response.text"
   ]
  },
  {
   "cell_type": "code",
   "execution_count": 2,
   "id": "be0b249b",
   "metadata": {},
   "outputs": [
    {
     "name": "stderr",
     "output_type": "stream",
     "text": [
      "[I 2025-08-26 22:57:54,383] A new study created in memory with name: rag_hyperparameter_tuning\n"
     ]
    },
    {
     "name": "stdout",
     "output_type": "stream",
     "text": [
      "Loaded 2590 queries for evaluation.\n",
      "\n",
      "Starting hyperparameter optimization...\n",
      "============================================================\n",
      "\n",
      "Trial 0: Testing params - threshold=95, initial_k=25, final_k=5, temp=0.9\n"
     ]
    },
    {
     "name": "stderr",
     "output_type": "stream",
     "text": [
      "/var/folders/9n/v_tm1cxd4r7c_3mh9hb1ww340000gn/T/ipykernel_69161/2512835882.py:43: LangChainDeprecationWarning: The class `HuggingFaceEmbeddings` was deprecated in LangChain 0.2.2 and will be removed in 1.0. An updated version of the class exists in the :class:`~langchain-huggingface package and should be used instead. To use it run `pip install -U :class:`~langchain-huggingface` and import as `from :class:`~langchain_huggingface import HuggingFaceEmbeddings``.\n",
      "  self.embedding_model = HuggingFaceEmbeddings(model_name=\"all-MiniLM-L6-v2\")\n"
     ]
    },
    {
     "name": "stdout",
     "output_type": "stream",
     "text": [
      "RAG system initialized with embedding dimension: 384\n",
      "  Adding documents with new chunking...\n",
      "  Evaluating performance...\n"
     ]
    },
    {
     "name": "stderr",
     "output_type": "stream",
     "text": [
      "[I 2025-08-26 23:08:08,364] Trial 0 finished with value: 0.93 and parameters: {'breakpoint_threshold': 95, 'initial_k': 25, 'final_k': 5, 'temperature': 0.9}. Best is trial 0 with value: 0.93.\n"
     ]
    },
    {
     "name": "stdout",
     "output_type": "stream",
     "text": [
      "  Scores - Faithfulness: 0.990, Relevancy: 0.990, Precision: 0.840\n",
      "  Final Weighted Score: 0.930\n",
      "\n",
      "Trial 1: Testing params - threshold=95, initial_k=25, final_k=8, temp=0.9\n",
      "RAG system initialized with embedding dimension: 384\n",
      "  Adding documents with new chunking...\n",
      "  Evaluating performance...\n"
     ]
    },
    {
     "name": "stderr",
     "output_type": "stream",
     "text": [
      "[I 2025-08-26 23:17:09,992] Trial 1 finished with value: 0.9390000000000001 and parameters: {'breakpoint_threshold': 95, 'initial_k': 25, 'final_k': 8, 'temperature': 0.9}. Best is trial 1 with value: 0.9390000000000001.\n"
     ]
    },
    {
     "name": "stdout",
     "output_type": "stream",
     "text": [
      "  Scores - Faithfulness: 0.990, Relevancy: 1.000, Precision: 0.850\n",
      "  Final Weighted Score: 0.939\n",
      "\n",
      "Trial 2: Testing params - threshold=98, initial_k=35, final_k=4, temp=0.5\n",
      "RAG system initialized with embedding dimension: 384\n",
      "  Adding documents with new chunking...\n",
      "  Evaluating performance...\n"
     ]
    },
    {
     "name": "stderr",
     "output_type": "stream",
     "text": [
      "[I 2025-08-26 23:25:40,859] Trial 2 finished with value: 0.924 and parameters: {'breakpoint_threshold': 98, 'initial_k': 35, 'final_k': 4, 'temperature': 0.5}. Best is trial 1 with value: 0.9390000000000001.\n"
     ]
    },
    {
     "name": "stdout",
     "output_type": "stream",
     "text": [
      "  Scores - Faithfulness: 1.000, Relevancy: 1.000, Precision: 0.810\n",
      "  Final Weighted Score: 0.924\n",
      "\n",
      "Trial 3: Testing params - threshold=99, initial_k=25, final_k=4, temp=0.9\n",
      "RAG system initialized with embedding dimension: 384\n",
      "  Adding documents with new chunking...\n",
      "  Evaluating performance...\n"
     ]
    },
    {
     "name": "stderr",
     "output_type": "stream",
     "text": [
      "[I 2025-08-26 23:34:22,631] Trial 3 finished with value: 0.875 and parameters: {'breakpoint_threshold': 99, 'initial_k': 25, 'final_k': 4, 'temperature': 0.9}. Best is trial 1 with value: 0.9390000000000001.\n"
     ]
    },
    {
     "name": "stdout",
     "output_type": "stream",
     "text": [
      "  Scores - Faithfulness: 1.000, Relevancy: 0.990, Precision: 0.700\n",
      "  Final Weighted Score: 0.875\n",
      "\n",
      "Trial 4: Testing params - threshold=96, initial_k=30, final_k=4, temp=0.9\n",
      "RAG system initialized with embedding dimension: 384\n",
      "  Adding documents with new chunking...\n",
      "  Evaluating performance...\n"
     ]
    },
    {
     "name": "stderr",
     "output_type": "stream",
     "text": [
      "[I 2025-08-26 23:43:52,419] Trial 4 finished with value: 0.8715 and parameters: {'breakpoint_threshold': 96, 'initial_k': 30, 'final_k': 4, 'temperature': 0.9}. Best is trial 1 with value: 0.9390000000000001.\n"
     ]
    },
    {
     "name": "stdout",
     "output_type": "stream",
     "text": [
      "  Scores - Faithfulness: 0.995, Relevancy: 0.920, Precision: 0.780\n",
      "  Final Weighted Score: 0.872\n",
      "\n",
      "Trial 5: Testing params - threshold=93, initial_k=40, final_k=4, temp=0.5\n",
      "RAG system initialized with embedding dimension: 384\n",
      "  Adding documents with new chunking...\n",
      "  Evaluating performance...\n"
     ]
    },
    {
     "name": "stderr",
     "output_type": "stream",
     "text": [
      "[I 2025-08-26 23:52:31,675] Trial 5 finished with value: 0.911 and parameters: {'breakpoint_threshold': 93, 'initial_k': 40, 'final_k': 4, 'temperature': 0.5}. Best is trial 1 with value: 0.9390000000000001.\n"
     ]
    },
    {
     "name": "stdout",
     "output_type": "stream",
     "text": [
      "  Scores - Faithfulness: 0.990, Relevancy: 1.000, Precision: 0.780\n",
      "  Final Weighted Score: 0.911\n",
      "\n",
      "Trial 6: Testing params - threshold=92, initial_k=25, final_k=4, temp=0.5\n",
      "RAG system initialized with embedding dimension: 384\n",
      "  Adding documents with new chunking...\n",
      "  Evaluating performance...\n"
     ]
    },
    {
     "name": "stderr",
     "output_type": "stream",
     "text": [
      "[I 2025-08-27 00:01:09,219] Trial 6 finished with value: 0.9169999999999999 and parameters: {'breakpoint_threshold': 92, 'initial_k': 25, 'final_k': 4, 'temperature': 0.5}. Best is trial 1 with value: 0.9390000000000001.\n"
     ]
    },
    {
     "name": "stdout",
     "output_type": "stream",
     "text": [
      "  Scores - Faithfulness: 0.980, Relevancy: 0.990, Precision: 0.810\n",
      "  Final Weighted Score: 0.917\n",
      "\n",
      "Trial 7: Testing params - threshold=90, initial_k=25, final_k=4, temp=0.1\n",
      "RAG system initialized with embedding dimension: 384\n",
      "  Adding documents with new chunking...\n",
      "  Evaluating performance...\n"
     ]
    },
    {
     "name": "stderr",
     "output_type": "stream",
     "text": [
      "[I 2025-08-27 00:10:07,191] Trial 7 finished with value: 0.9075000000000001 and parameters: {'breakpoint_threshold': 90, 'initial_k': 25, 'final_k': 4, 'temperature': 0.1}. Best is trial 1 with value: 0.9390000000000001.\n"
     ]
    },
    {
     "name": "stdout",
     "output_type": "stream",
     "text": [
      "  Scores - Faithfulness: 0.995, Relevancy: 1.000, Precision: 0.770\n",
      "  Final Weighted Score: 0.908\n",
      "\n",
      "Trial 8: Testing params - threshold=90, initial_k=40, final_k=3, temp=0.5\n",
      "RAG system initialized with embedding dimension: 384\n",
      "  Adding documents with new chunking...\n",
      "  Evaluating performance...\n"
     ]
    },
    {
     "name": "stderr",
     "output_type": "stream",
     "text": [
      "[I 2025-08-27 00:19:05,782] Trial 8 finished with value: 0.892 and parameters: {'breakpoint_threshold': 90, 'initial_k': 40, 'final_k': 3, 'temperature': 0.5}. Best is trial 1 with value: 0.9390000000000001.\n"
     ]
    },
    {
     "name": "stdout",
     "output_type": "stream",
     "text": [
      "  Scores - Faithfulness: 0.990, Relevancy: 0.930, Precision: 0.820\n",
      "  Final Weighted Score: 0.892\n",
      "\n",
      "Trial 9: Testing params - threshold=99, initial_k=25, final_k=3, temp=0.9\n",
      "RAG system initialized with embedding dimension: 384\n",
      "  Adding documents with new chunking...\n",
      "  Evaluating performance...\n"
     ]
    },
    {
     "name": "stderr",
     "output_type": "stream",
     "text": [
      "[I 2025-08-27 00:28:02,293] Trial 9 finished with value: 0.861 and parameters: {'breakpoint_threshold': 99, 'initial_k': 25, 'final_k': 3, 'temperature': 0.9}. Best is trial 1 with value: 0.9390000000000001.\n"
     ]
    },
    {
     "name": "stdout",
     "output_type": "stream",
     "text": [
      "  Scores - Faithfulness: 0.970, Relevancy: 0.920, Precision: 0.760\n",
      "  Final Weighted Score: 0.861\n",
      "\n",
      "Trial 10: Testing params - threshold=96, initial_k=20, final_k=9, temp=0.1\n",
      "RAG system initialized with embedding dimension: 384\n",
      "  Adding documents with new chunking...\n",
      "  Evaluating performance...\n"
     ]
    },
    {
     "name": "stderr",
     "output_type": "stream",
     "text": [
      "[I 2025-08-27 00:37:38,921] Trial 10 finished with value: 0.932 and parameters: {'breakpoint_threshold': 96, 'initial_k': 20, 'final_k': 9, 'temperature': 0.1}. Best is trial 1 with value: 0.9390000000000001.\n"
     ]
    },
    {
     "name": "stdout",
     "output_type": "stream",
     "text": [
      "  Scores - Faithfulness: 1.000, Relevancy: 1.000, Precision: 0.830\n",
      "  Final Weighted Score: 0.932\n",
      "\n",
      "Trial 11: Testing params - threshold=96, initial_k=20, final_k=9, temp=0.1\n",
      "RAG system initialized with embedding dimension: 384\n",
      "  Adding documents with new chunking...\n",
      "  Evaluating performance...\n"
     ]
    },
    {
     "name": "stderr",
     "output_type": "stream",
     "text": [
      "[I 2025-08-27 00:47:35,691] Trial 11 finished with value: 0.9525000000000001 and parameters: {'breakpoint_threshold': 96, 'initial_k': 20, 'final_k': 9, 'temperature': 0.1}. Best is trial 11 with value: 0.9525000000000001.\n"
     ]
    },
    {
     "name": "stdout",
     "output_type": "stream",
     "text": [
      "  Scores - Faithfulness: 0.985, Relevancy: 1.000, Precision: 0.885\n",
      "  Final Weighted Score: 0.953\n",
      "\n",
      "Trial 12: Testing params - threshold=94, initial_k=20, final_k=9, temp=0.1\n",
      "RAG system initialized with embedding dimension: 384\n",
      "  Adding documents with new chunking...\n",
      "  Evaluating performance...\n"
     ]
    },
    {
     "name": "stderr",
     "output_type": "stream",
     "text": [
      "[I 2025-08-27 00:57:16,463] Trial 12 finished with value: 0.9005 and parameters: {'breakpoint_threshold': 94, 'initial_k': 20, 'final_k': 9, 'temperature': 0.1}. Best is trial 11 with value: 0.9525000000000001.\n"
     ]
    },
    {
     "name": "stdout",
     "output_type": "stream",
     "text": [
      "  Scores - Faithfulness: 0.975, Relevancy: 0.990, Precision: 0.770\n",
      "  Final Weighted Score: 0.900\n",
      "\n",
      "Trial 13: Testing params - threshold=97, initial_k=20, final_k=7, temp=0.1\n",
      "RAG system initialized with embedding dimension: 384\n",
      "  Adding documents with new chunking...\n",
      "  Evaluating performance...\n"
     ]
    },
    {
     "name": "stderr",
     "output_type": "stream",
     "text": [
      "[I 2025-08-27 01:06:38,109] Trial 13 finished with value: 0.9400000000000001 and parameters: {'breakpoint_threshold': 97, 'initial_k': 20, 'final_k': 7, 'temperature': 0.1}. Best is trial 11 with value: 0.9525000000000001.\n"
     ]
    },
    {
     "name": "stdout",
     "output_type": "stream",
     "text": [
      "  Scores - Faithfulness: 0.960, Relevancy: 1.000, Precision: 0.860\n",
      "  Final Weighted Score: 0.940\n",
      "\n",
      "Trial 14: Testing params - threshold=97, initial_k=20, final_k=7, temp=0.1\n",
      "RAG system initialized with embedding dimension: 384\n",
      "  Adding documents with new chunking...\n",
      "  Evaluating performance...\n"
     ]
    },
    {
     "name": "stderr",
     "output_type": "stream",
     "text": [
      "[I 2025-08-27 01:15:35,277] Trial 14 finished with value: 0.9239999999999999 and parameters: {'breakpoint_threshold': 97, 'initial_k': 20, 'final_k': 7, 'temperature': 0.1}. Best is trial 11 with value: 0.9525000000000001.\n"
     ]
    },
    {
     "name": "stdout",
     "output_type": "stream",
     "text": [
      "  Scores - Faithfulness: 0.990, Relevancy: 0.970, Precision: 0.850\n",
      "  Final Weighted Score: 0.924\n",
      "\n",
      "Trial 15: Testing params - threshold=97, initial_k=20, final_k=10, temp=0.1\n",
      "RAG system initialized with embedding dimension: 384\n",
      "  Adding documents with new chunking...\n",
      "  Evaluating performance...\n"
     ]
    },
    {
     "name": "stderr",
     "output_type": "stream",
     "text": [
      "[I 2025-08-27 01:25:20,280] Trial 15 finished with value: 0.962 and parameters: {'breakpoint_threshold': 97, 'initial_k': 20, 'final_k': 10, 'temperature': 0.1}. Best is trial 15 with value: 0.962.\n"
     ]
    },
    {
     "name": "stdout",
     "output_type": "stream",
     "text": [
      "  Scores - Faithfulness: 0.980, Relevancy: 1.000, Precision: 0.910\n",
      "  Final Weighted Score: 0.962\n",
      "\n",
      "Trial 16: Testing params - threshold=97, initial_k=20, final_k=10, temp=0.1\n",
      "RAG system initialized with embedding dimension: 384\n",
      "  Adding documents with new chunking...\n",
      "  Evaluating performance...\n"
     ]
    },
    {
     "name": "stderr",
     "output_type": "stream",
     "text": [
      "[I 2025-08-27 01:34:56,951] Trial 16 finished with value: 0.9309999999999999 and parameters: {'breakpoint_threshold': 97, 'initial_k': 20, 'final_k': 10, 'temperature': 0.1}. Best is trial 15 with value: 0.962.\n"
     ]
    },
    {
     "name": "stdout",
     "output_type": "stream",
     "text": [
      "  Scores - Faithfulness: 0.990, Relevancy: 1.000, Precision: 0.830\n",
      "  Final Weighted Score: 0.931\n",
      "\n",
      "Trial 17: Testing params - threshold=94, initial_k=35, final_k=10, temp=0.1\n",
      "RAG system initialized with embedding dimension: 384\n",
      "  Adding documents with new chunking...\n",
      "  Evaluating performance...\n"
     ]
    },
    {
     "name": "stderr",
     "output_type": "stream",
     "text": [
      "[I 2025-08-27 01:44:26,419] Trial 17 finished with value: 0.9480000000000001 and parameters: {'breakpoint_threshold': 94, 'initial_k': 35, 'final_k': 10, 'temperature': 0.1}. Best is trial 15 with value: 0.962.\n"
     ]
    },
    {
     "name": "stdout",
     "output_type": "stream",
     "text": [
      "  Scores - Faithfulness: 0.960, Relevancy: 1.000, Precision: 0.880\n",
      "  Final Weighted Score: 0.948\n",
      "\n",
      "Trial 18: Testing params - threshold=98, initial_k=30, final_k=9, temp=0.1\n",
      "RAG system initialized with embedding dimension: 384\n",
      "  Adding documents with new chunking...\n",
      "  Evaluating performance...\n"
     ]
    },
    {
     "name": "stderr",
     "output_type": "stream",
     "text": [
      "[I 2025-08-27 01:54:13,746] Trial 18 finished with value: 0.912 and parameters: {'breakpoint_threshold': 98, 'initial_k': 30, 'final_k': 9, 'temperature': 0.1}. Best is trial 15 with value: 0.962.\n"
     ]
    },
    {
     "name": "stdout",
     "output_type": "stream",
     "text": [
      "  Scores - Faithfulness: 0.960, Relevancy: 1.000, Precision: 0.790\n",
      "  Final Weighted Score: 0.912\n",
      "\n",
      "Trial 19: Testing params - threshold=92, initial_k=20, final_k=8, temp=0.1\n",
      "RAG system initialized with embedding dimension: 384\n",
      "  Adding documents with new chunking...\n",
      "  Evaluating performance...\n"
     ]
    },
    {
     "name": "stderr",
     "output_type": "stream",
     "text": [
      "[I 2025-08-27 02:03:34,659] Trial 19 finished with value: 0.906 and parameters: {'breakpoint_threshold': 92, 'initial_k': 20, 'final_k': 8, 'temperature': 0.1}. Best is trial 15 with value: 0.962.\n"
     ]
    },
    {
     "name": "stdout",
     "output_type": "stream",
     "text": [
      "  Scores - Faithfulness: 0.990, Relevancy: 0.990, Precision: 0.780\n",
      "  Final Weighted Score: 0.906\n",
      "\n",
      "============================================================\n",
      "Optimization Complete!\n",
      "============================================================\n",
      "\n",
      "🏆 BEST HYPERPARAMETERS FOUND:\n",
      "----------------------------------------\n",
      "  breakpoint_threshold: 97\n",
      "  initial_k: 20\n",
      "  final_k: 10\n",
      "  temperature: 0.1\n",
      "\n",
      "🚀 Best Score Achieved: 0.9620\n"
     ]
    }
   ],
   "source": [
    "# --- 1. Load Data ---\n",
    "try:\n",
    "    corpus_df = pd.read_csv('./assets/corpus.csv')\n",
    "    queries_df = pd.read_csv('./assets/queries.csv')\n",
    "    ground_truth_df = pd.read_csv('./assets/train.csv')\n",
    "except FileNotFoundError as e:\n",
    "    print(f\"Error: {e}. Make sure corpus.csv, queries.csv, and train.csv are in the './assets/' directory.\")\n",
    "    exit()\n",
    "\n",
    "# --- 2. Prepare Evaluation DataFrame ---\n",
    "queries_df.rename(columns={'_id': 'query-id'}, inplace=True)\n",
    "ground_truth_grouped = ground_truth_df.groupby('query-id')['corpus-id'].apply(list).reset_index()\n",
    "ground_truth_grouped.rename(columns={'corpus-id': 'ground_truth_doc_ids'}, inplace=True)\n",
    "eval_df = pd.merge(queries_df, ground_truth_grouped, on='query-id')\n",
    "print(f\"Loaded {len(eval_df)} queries for evaluation.\")\n",
    "\n",
    "\n",
    "# --- 3. Define the Objective Function for Optuna ---\n",
    "def objective(trial):\n",
    "    \"\"\"\n",
    "    Objective function for Optuna to optimize RAG hyperparameters.\n",
    "    \"\"\"\n",
    "    # Suggest hyperparameters for this trial\n",
    "    breakpoint_threshold = trial.suggest_int(\"breakpoint_threshold\", 90, 99)\n",
    "    initial_k = trial.suggest_categorical(\"initial_k\", [20, 25, 30, 35, 40])\n",
    "    final_k = trial.suggest_int(\"final_k\", 3, 10)\n",
    "    temperature = trial.suggest_categorical(\"temperature\", [0.1, 0.5, 0.9])\n",
    "\n",
    "    print(f\"\\nTrial {trial.number}: Testing params - threshold={breakpoint_threshold}, \"\n",
    "            f\"initial_k={initial_k}, final_k={final_k}, temp={temperature}\")\n",
    "\n",
    "    # Initialize RAG system with new parameters\n",
    "    rag_tunable = TunableRAG()\n",
    "\n",
    "    # Add documents with the specified chunking threshold\n",
    "    print(\"  Adding documents with new chunking...\")\n",
    "    rag_tunable.add_documents_with_threshold(corpus_df, breakpoint_threshold_amount=breakpoint_threshold)\n",
    "\n",
    "    eval_results = []\n",
    "    # Use a subset of queries for faster tuning\n",
    "    eval_subset = eval_df.head(10)\n",
    "\n",
    "    for _, row in eval_subset.iterrows():\n",
    "        query_text = row['text']\n",
    "        retrieved_docs = rag_tunable.retrieve_with_params(query_text, initial_k, final_k)\n",
    "        generated_answer = rag_tunable.generate_answer_with_temp(query_text, retrieved_docs, temperature)\n",
    "        contexts = [doc['text'] for doc, _ in retrieved_docs]\n",
    "        eval_results.append({'question': query_text, 'contexts': contexts, 'answer': generated_answer})\n",
    "        time.sleep(6)  # To avoid hitting API rate limits\n",
    "\n",
    "    print(\"  Evaluating performance...\")\n",
    "    model = genai.GenerativeModel('gemini-2.5-flash')\n",
    "    faithfulness_scores, relevancy_scores, precision_scores = [], [], []\n",
    "\n",
    "    for item in eval_results:\n",
    "        # Simplified evaluation logic from the notebook\n",
    "        try:\n",
    "            faithfulness_prompt = f\"Question: {item['question']}\\nContext: {' '.join(item['contexts'])}\\nAnswer: {item['answer']}\\n\\nRate how faithful the answer is to the context (0-1). Return only a number.\"\n",
    "            faithfulness = float(model.generate_content(faithfulness_prompt).text.strip())\n",
    "            time.sleep(6)  # To avoid hitting API rate limits\n",
    "            relevancy_prompt = f\"Question: {item['question']}\\nAnswer: {item['answer']}\\n\\nRate how relevant the answer is to the question (0-1). Return only a number.\"\n",
    "            relevancy = float(model.generate_content(relevancy_prompt).text.strip())\n",
    "            time.sleep(6)  # To avoid hitting API rate limits\n",
    "            precision_prompt = f\"Question: {item['question']}\\nContext: {' '.join(item['contexts'])}\\n\\nRate how precise the context is for answering the question (0-1). Return only a number.\"\n",
    "            precision = float(model.generate_content(precision_prompt).text.strip())\n",
    "            time.sleep(6)  # To avoid hitting API rate limits\n",
    "        except (ValueError, AttributeError, IndexError):\n",
    "            faithfulness, relevancy, precision = 0.5, 0.5, 0.5 # Default on failure\n",
    "\n",
    "        faithfulness_scores.append(faithfulness)\n",
    "        relevancy_scores.append(relevancy)\n",
    "        precision_scores.append(precision)\n",
    "\n",
    "    avg_faithfulness = np.mean(faithfulness_scores)\n",
    "    avg_relevancy = np.mean(relevancy_scores)\n",
    "    avg_precision = np.mean(precision_scores)\n",
    "\n",
    "    # Weighted score to optimize for\n",
    "    score = (0.5 * avg_relevancy) + (0.4 * avg_precision) + (0.1 * avg_faithfulness)\n",
    "\n",
    "    print(f\"  Scores - Faithfulness: {avg_faithfulness:.3f}, Relevancy: {avg_relevancy:.3f}, Precision: {avg_precision:.3f}\")\n",
    "    print(f\"  Final Weighted Score: {score:.3f}\")\n",
    "\n",
    "    return score\n",
    "\n",
    "# --- 4. Run the Optuna Study ---\n",
    "study = optuna.create_study(direction=\"maximize\", study_name=\"rag_hyperparameter_tuning\")\n",
    "print(\"\\nStarting hyperparameter optimization...\")\n",
    "print(\"=\" * 60)\n",
    "# n_trials can be increased for a more thorough search\n",
    "study.optimize(objective, n_trials=20)\n",
    "\n",
    "# --- 5. Display Results ---\n",
    "print(\"\\n\" + \"=\" * 60)\n",
    "print(\"Optimization Complete!\")\n",
    "print(\"=\" * 60)\n",
    "print(\"\\n🏆 BEST HYPERPARAMETERS FOUND:\")\n",
    "print(\"-\" * 40)\n",
    "for param, value in study.best_params.items():\n",
    "    print(f\"  {param}: {value}\")\n",
    "print(f\"\\n🚀 Best Score Achieved: {study.best_value:.4f}\")\n"
   ]
  },
  {
   "cell_type": "code",
   "execution_count": 8,
   "id": "44cc4f7b",
   "metadata": {},
   "outputs": [
    {
     "name": "stderr",
     "output_type": "stream",
     "text": [
      "huggingface/tokenizers: The current process just got forked, after parallelism has already been used. Disabling parallelism to avoid deadlocks...\n",
      "To disable this warning, you can either:\n",
      "\t- Avoid using `tokenizers` before the fork if possible\n",
      "\t- Explicitly set the environment variable TOKENIZERS_PARALLELISM=(true | false)\n"
     ]
    },
    {
     "name": "stdout",
     "output_type": "stream",
     "text": [
      "Requirement already satisfied: plotly in ./.venv/lib/python3.9/site-packages (6.3.0)\n",
      "Requirement already satisfied: narwhals>=1.15.1 in ./.venv/lib/python3.9/site-packages (from plotly) (2.2.0)\n",
      "Requirement already satisfied: packaging in ./.venv/lib/python3.9/site-packages (from plotly) (25.0)\n"
     ]
    },
    {
     "name": "stderr",
     "output_type": "stream",
     "text": [
      "huggingface/tokenizers: The current process just got forked, after parallelism has already been used. Disabling parallelism to avoid deadlocks...\n",
      "To disable this warning, you can either:\n",
      "\t- Avoid using `tokenizers` before the fork if possible\n",
      "\t- Explicitly set the environment variable TOKENIZERS_PARALLELISM=(true | false)\n"
     ]
    },
    {
     "name": "stdout",
     "output_type": "stream",
     "text": [
      "Requirement already satisfied: nbformat in ./.venv/lib/python3.9/site-packages (5.10.4)\n",
      "Requirement already satisfied: fastjsonschema>=2.15 in ./.venv/lib/python3.9/site-packages (from nbformat) (2.21.2)\n",
      "Requirement already satisfied: jsonschema>=2.6 in ./.venv/lib/python3.9/site-packages (from nbformat) (4.25.1)\n",
      "Requirement already satisfied: jupyter-core!=5.0.*,>=4.12 in ./.venv/lib/python3.9/site-packages (from nbformat) (5.8.1)\n",
      "Requirement already satisfied: traitlets>=5.1 in ./.venv/lib/python3.9/site-packages (from nbformat) (5.14.3)\n",
      "Requirement already satisfied: attrs>=22.2.0 in ./.venv/lib/python3.9/site-packages (from jsonschema>=2.6->nbformat) (25.3.0)\n",
      "Requirement already satisfied: jsonschema-specifications>=2023.03.6 in ./.venv/lib/python3.9/site-packages (from jsonschema>=2.6->nbformat) (2025.4.1)\n",
      "Requirement already satisfied: referencing>=0.28.4 in ./.venv/lib/python3.9/site-packages (from jsonschema>=2.6->nbformat) (0.36.2)\n",
      "Requirement already satisfied: rpds-py>=0.7.1 in ./.venv/lib/python3.9/site-packages (from jsonschema>=2.6->nbformat) (0.27.0)\n",
      "Requirement already satisfied: platformdirs>=2.5 in ./.venv/lib/python3.9/site-packages (from jupyter-core!=5.0.*,>=4.12->nbformat) (4.3.8)\n",
      "Requirement already satisfied: typing-extensions>=4.4.0 in ./.venv/lib/python3.9/site-packages (from referencing>=0.28.4->jsonschema>=2.6->nbformat) (4.14.1)\n"
     ]
    }
   ],
   "source": [
    "! pip install plotly\n",
    "! pip install --upgrade nbformat"
   ]
  },
  {
   "cell_type": "code",
   "execution_count": 1,
   "id": "b19ef563",
   "metadata": {},
   "outputs": [
    {
     "name": "stderr",
     "output_type": "stream",
     "text": [
      "/Users/shenhao/Desktop/RAG_system/.venv/lib/python3.9/site-packages/tqdm/auto.py:21: TqdmWarning: IProgress not found. Please update jupyter and ipywidgets. See https://ipywidgets.readthedocs.io/en/stable/user_install.html\n",
      "  from .autonotebook import tqdm as notebook_tqdm\n"
     ]
    },
    {
     "name": "stdout",
     "output_type": "stream",
     "text": [
      "Study loaded successfully!\n"
     ]
    }
   ],
   "source": [
    "import joblib\n",
    "import optuna.visualization as vis\n",
    "\n",
    "# Load the study from the file\n",
    "study = joblib.load(\"completed_study.pkl\")\n",
    "print(\"Study loaded successfully!\")"
   ]
  },
  {
   "cell_type": "code",
   "execution_count": 2,
   "id": "36834bc1",
   "metadata": {},
   "outputs": [
    {
     "name": "stdout",
     "output_type": "stream",
     "text": [
      "Plotting Optimization History...\n"
     ]
    },
    {
     "data": {
      "application/vnd.plotly.v1+json": {
       "config": {
        "plotlyServerURL": "https://plot.ly"
       },
       "data": [
        {
         "mode": "markers",
         "name": "Objective Value",
         "type": "scatter",
         "x": [
          0,
          1,
          2,
          3,
          4,
          5,
          6,
          7,
          8,
          9,
          10,
          11,
          12,
          13,
          14,
          15,
          16,
          17,
          18,
          19
         ],
         "y": [
          0.93,
          0.9390000000000001,
          0.924,
          0.875,
          0.8715,
          0.911,
          0.9169999999999999,
          0.9075000000000001,
          0.892,
          0.861,
          0.932,
          0.9525000000000001,
          0.9005,
          0.9400000000000001,
          0.9239999999999999,
          0.962,
          0.9309999999999999,
          0.9480000000000001,
          0.912,
          0.906
         ]
        },
        {
         "mode": "lines",
         "name": "Best Value",
         "type": "scatter",
         "x": [
          0,
          1,
          2,
          3,
          4,
          5,
          6,
          7,
          8,
          9,
          10,
          11,
          12,
          13,
          14,
          15,
          16,
          17,
          18,
          19
         ],
         "y": [
          0.93,
          0.9390000000000001,
          0.9390000000000001,
          0.9390000000000001,
          0.9390000000000001,
          0.9390000000000001,
          0.9390000000000001,
          0.9390000000000001,
          0.9390000000000001,
          0.9390000000000001,
          0.9390000000000001,
          0.9525000000000001,
          0.9525000000000001,
          0.9525000000000001,
          0.9525000000000001,
          0.962,
          0.962,
          0.962,
          0.962,
          0.962
         ]
        },
        {
         "marker": {
          "color": "#cccccc"
         },
         "mode": "markers",
         "name": "Infeasible Trial",
         "showlegend": false,
         "type": "scatter",
         "x": [],
         "y": []
        }
       ],
       "layout": {
        "template": {
         "data": {
          "bar": [
           {
            "error_x": {
             "color": "#2a3f5f"
            },
            "error_y": {
             "color": "#2a3f5f"
            },
            "marker": {
             "line": {
              "color": "#E5ECF6",
              "width": 0.5
             },
             "pattern": {
              "fillmode": "overlay",
              "size": 10,
              "solidity": 0.2
             }
            },
            "type": "bar"
           }
          ],
          "barpolar": [
           {
            "marker": {
             "line": {
              "color": "#E5ECF6",
              "width": 0.5
             },
             "pattern": {
              "fillmode": "overlay",
              "size": 10,
              "solidity": 0.2
             }
            },
            "type": "barpolar"
           }
          ],
          "carpet": [
           {
            "aaxis": {
             "endlinecolor": "#2a3f5f",
             "gridcolor": "white",
             "linecolor": "white",
             "minorgridcolor": "white",
             "startlinecolor": "#2a3f5f"
            },
            "baxis": {
             "endlinecolor": "#2a3f5f",
             "gridcolor": "white",
             "linecolor": "white",
             "minorgridcolor": "white",
             "startlinecolor": "#2a3f5f"
            },
            "type": "carpet"
           }
          ],
          "choropleth": [
           {
            "colorbar": {
             "outlinewidth": 0,
             "ticks": ""
            },
            "type": "choropleth"
           }
          ],
          "contour": [
           {
            "colorbar": {
             "outlinewidth": 0,
             "ticks": ""
            },
            "colorscale": [
             [
              0,
              "#0d0887"
             ],
             [
              0.1111111111111111,
              "#46039f"
             ],
             [
              0.2222222222222222,
              "#7201a8"
             ],
             [
              0.3333333333333333,
              "#9c179e"
             ],
             [
              0.4444444444444444,
              "#bd3786"
             ],
             [
              0.5555555555555556,
              "#d8576b"
             ],
             [
              0.6666666666666666,
              "#ed7953"
             ],
             [
              0.7777777777777778,
              "#fb9f3a"
             ],
             [
              0.8888888888888888,
              "#fdca26"
             ],
             [
              1,
              "#f0f921"
             ]
            ],
            "type": "contour"
           }
          ],
          "contourcarpet": [
           {
            "colorbar": {
             "outlinewidth": 0,
             "ticks": ""
            },
            "type": "contourcarpet"
           }
          ],
          "heatmap": [
           {
            "colorbar": {
             "outlinewidth": 0,
             "ticks": ""
            },
            "colorscale": [
             [
              0,
              "#0d0887"
             ],
             [
              0.1111111111111111,
              "#46039f"
             ],
             [
              0.2222222222222222,
              "#7201a8"
             ],
             [
              0.3333333333333333,
              "#9c179e"
             ],
             [
              0.4444444444444444,
              "#bd3786"
             ],
             [
              0.5555555555555556,
              "#d8576b"
             ],
             [
              0.6666666666666666,
              "#ed7953"
             ],
             [
              0.7777777777777778,
              "#fb9f3a"
             ],
             [
              0.8888888888888888,
              "#fdca26"
             ],
             [
              1,
              "#f0f921"
             ]
            ],
            "type": "heatmap"
           }
          ],
          "histogram": [
           {
            "marker": {
             "pattern": {
              "fillmode": "overlay",
              "size": 10,
              "solidity": 0.2
             }
            },
            "type": "histogram"
           }
          ],
          "histogram2d": [
           {
            "colorbar": {
             "outlinewidth": 0,
             "ticks": ""
            },
            "colorscale": [
             [
              0,
              "#0d0887"
             ],
             [
              0.1111111111111111,
              "#46039f"
             ],
             [
              0.2222222222222222,
              "#7201a8"
             ],
             [
              0.3333333333333333,
              "#9c179e"
             ],
             [
              0.4444444444444444,
              "#bd3786"
             ],
             [
              0.5555555555555556,
              "#d8576b"
             ],
             [
              0.6666666666666666,
              "#ed7953"
             ],
             [
              0.7777777777777778,
              "#fb9f3a"
             ],
             [
              0.8888888888888888,
              "#fdca26"
             ],
             [
              1,
              "#f0f921"
             ]
            ],
            "type": "histogram2d"
           }
          ],
          "histogram2dcontour": [
           {
            "colorbar": {
             "outlinewidth": 0,
             "ticks": ""
            },
            "colorscale": [
             [
              0,
              "#0d0887"
             ],
             [
              0.1111111111111111,
              "#46039f"
             ],
             [
              0.2222222222222222,
              "#7201a8"
             ],
             [
              0.3333333333333333,
              "#9c179e"
             ],
             [
              0.4444444444444444,
              "#bd3786"
             ],
             [
              0.5555555555555556,
              "#d8576b"
             ],
             [
              0.6666666666666666,
              "#ed7953"
             ],
             [
              0.7777777777777778,
              "#fb9f3a"
             ],
             [
              0.8888888888888888,
              "#fdca26"
             ],
             [
              1,
              "#f0f921"
             ]
            ],
            "type": "histogram2dcontour"
           }
          ],
          "mesh3d": [
           {
            "colorbar": {
             "outlinewidth": 0,
             "ticks": ""
            },
            "type": "mesh3d"
           }
          ],
          "parcoords": [
           {
            "line": {
             "colorbar": {
              "outlinewidth": 0,
              "ticks": ""
             }
            },
            "type": "parcoords"
           }
          ],
          "pie": [
           {
            "automargin": true,
            "type": "pie"
           }
          ],
          "scatter": [
           {
            "fillpattern": {
             "fillmode": "overlay",
             "size": 10,
             "solidity": 0.2
            },
            "type": "scatter"
           }
          ],
          "scatter3d": [
           {
            "line": {
             "colorbar": {
              "outlinewidth": 0,
              "ticks": ""
             }
            },
            "marker": {
             "colorbar": {
              "outlinewidth": 0,
              "ticks": ""
             }
            },
            "type": "scatter3d"
           }
          ],
          "scattercarpet": [
           {
            "marker": {
             "colorbar": {
              "outlinewidth": 0,
              "ticks": ""
             }
            },
            "type": "scattercarpet"
           }
          ],
          "scattergeo": [
           {
            "marker": {
             "colorbar": {
              "outlinewidth": 0,
              "ticks": ""
             }
            },
            "type": "scattergeo"
           }
          ],
          "scattergl": [
           {
            "marker": {
             "colorbar": {
              "outlinewidth": 0,
              "ticks": ""
             }
            },
            "type": "scattergl"
           }
          ],
          "scattermap": [
           {
            "marker": {
             "colorbar": {
              "outlinewidth": 0,
              "ticks": ""
             }
            },
            "type": "scattermap"
           }
          ],
          "scattermapbox": [
           {
            "marker": {
             "colorbar": {
              "outlinewidth": 0,
              "ticks": ""
             }
            },
            "type": "scattermapbox"
           }
          ],
          "scatterpolar": [
           {
            "marker": {
             "colorbar": {
              "outlinewidth": 0,
              "ticks": ""
             }
            },
            "type": "scatterpolar"
           }
          ],
          "scatterpolargl": [
           {
            "marker": {
             "colorbar": {
              "outlinewidth": 0,
              "ticks": ""
             }
            },
            "type": "scatterpolargl"
           }
          ],
          "scatterternary": [
           {
            "marker": {
             "colorbar": {
              "outlinewidth": 0,
              "ticks": ""
             }
            },
            "type": "scatterternary"
           }
          ],
          "surface": [
           {
            "colorbar": {
             "outlinewidth": 0,
             "ticks": ""
            },
            "colorscale": [
             [
              0,
              "#0d0887"
             ],
             [
              0.1111111111111111,
              "#46039f"
             ],
             [
              0.2222222222222222,
              "#7201a8"
             ],
             [
              0.3333333333333333,
              "#9c179e"
             ],
             [
              0.4444444444444444,
              "#bd3786"
             ],
             [
              0.5555555555555556,
              "#d8576b"
             ],
             [
              0.6666666666666666,
              "#ed7953"
             ],
             [
              0.7777777777777778,
              "#fb9f3a"
             ],
             [
              0.8888888888888888,
              "#fdca26"
             ],
             [
              1,
              "#f0f921"
             ]
            ],
            "type": "surface"
           }
          ],
          "table": [
           {
            "cells": {
             "fill": {
              "color": "#EBF0F8"
             },
             "line": {
              "color": "white"
             }
            },
            "header": {
             "fill": {
              "color": "#C8D4E3"
             },
             "line": {
              "color": "white"
             }
            },
            "type": "table"
           }
          ]
         },
         "layout": {
          "annotationdefaults": {
           "arrowcolor": "#2a3f5f",
           "arrowhead": 0,
           "arrowwidth": 1
          },
          "autotypenumbers": "strict",
          "coloraxis": {
           "colorbar": {
            "outlinewidth": 0,
            "ticks": ""
           }
          },
          "colorscale": {
           "diverging": [
            [
             0,
             "#8e0152"
            ],
            [
             0.1,
             "#c51b7d"
            ],
            [
             0.2,
             "#de77ae"
            ],
            [
             0.3,
             "#f1b6da"
            ],
            [
             0.4,
             "#fde0ef"
            ],
            [
             0.5,
             "#f7f7f7"
            ],
            [
             0.6,
             "#e6f5d0"
            ],
            [
             0.7,
             "#b8e186"
            ],
            [
             0.8,
             "#7fbc41"
            ],
            [
             0.9,
             "#4d9221"
            ],
            [
             1,
             "#276419"
            ]
           ],
           "sequential": [
            [
             0,
             "#0d0887"
            ],
            [
             0.1111111111111111,
             "#46039f"
            ],
            [
             0.2222222222222222,
             "#7201a8"
            ],
            [
             0.3333333333333333,
             "#9c179e"
            ],
            [
             0.4444444444444444,
             "#bd3786"
            ],
            [
             0.5555555555555556,
             "#d8576b"
            ],
            [
             0.6666666666666666,
             "#ed7953"
            ],
            [
             0.7777777777777778,
             "#fb9f3a"
            ],
            [
             0.8888888888888888,
             "#fdca26"
            ],
            [
             1,
             "#f0f921"
            ]
           ],
           "sequentialminus": [
            [
             0,
             "#0d0887"
            ],
            [
             0.1111111111111111,
             "#46039f"
            ],
            [
             0.2222222222222222,
             "#7201a8"
            ],
            [
             0.3333333333333333,
             "#9c179e"
            ],
            [
             0.4444444444444444,
             "#bd3786"
            ],
            [
             0.5555555555555556,
             "#d8576b"
            ],
            [
             0.6666666666666666,
             "#ed7953"
            ],
            [
             0.7777777777777778,
             "#fb9f3a"
            ],
            [
             0.8888888888888888,
             "#fdca26"
            ],
            [
             1,
             "#f0f921"
            ]
           ]
          },
          "colorway": [
           "#636efa",
           "#EF553B",
           "#00cc96",
           "#ab63fa",
           "#FFA15A",
           "#19d3f3",
           "#FF6692",
           "#B6E880",
           "#FF97FF",
           "#FECB52"
          ],
          "font": {
           "color": "#2a3f5f"
          },
          "geo": {
           "bgcolor": "white",
           "lakecolor": "white",
           "landcolor": "#E5ECF6",
           "showlakes": true,
           "showland": true,
           "subunitcolor": "white"
          },
          "hoverlabel": {
           "align": "left"
          },
          "hovermode": "closest",
          "mapbox": {
           "style": "light"
          },
          "paper_bgcolor": "white",
          "plot_bgcolor": "#E5ECF6",
          "polar": {
           "angularaxis": {
            "gridcolor": "white",
            "linecolor": "white",
            "ticks": ""
           },
           "bgcolor": "#E5ECF6",
           "radialaxis": {
            "gridcolor": "white",
            "linecolor": "white",
            "ticks": ""
           }
          },
          "scene": {
           "xaxis": {
            "backgroundcolor": "#E5ECF6",
            "gridcolor": "white",
            "gridwidth": 2,
            "linecolor": "white",
            "showbackground": true,
            "ticks": "",
            "zerolinecolor": "white"
           },
           "yaxis": {
            "backgroundcolor": "#E5ECF6",
            "gridcolor": "white",
            "gridwidth": 2,
            "linecolor": "white",
            "showbackground": true,
            "ticks": "",
            "zerolinecolor": "white"
           },
           "zaxis": {
            "backgroundcolor": "#E5ECF6",
            "gridcolor": "white",
            "gridwidth": 2,
            "linecolor": "white",
            "showbackground": true,
            "ticks": "",
            "zerolinecolor": "white"
           }
          },
          "shapedefaults": {
           "line": {
            "color": "#2a3f5f"
           }
          },
          "ternary": {
           "aaxis": {
            "gridcolor": "white",
            "linecolor": "white",
            "ticks": ""
           },
           "baxis": {
            "gridcolor": "white",
            "linecolor": "white",
            "ticks": ""
           },
           "bgcolor": "#E5ECF6",
           "caxis": {
            "gridcolor": "white",
            "linecolor": "white",
            "ticks": ""
           }
          },
          "title": {
           "x": 0.05
          },
          "xaxis": {
           "automargin": true,
           "gridcolor": "white",
           "linecolor": "white",
           "ticks": "",
           "title": {
            "standoff": 15
           },
           "zerolinecolor": "white",
           "zerolinewidth": 2
          },
          "yaxis": {
           "automargin": true,
           "gridcolor": "white",
           "linecolor": "white",
           "ticks": "",
           "title": {
            "standoff": 15
           },
           "zerolinecolor": "white",
           "zerolinewidth": 2
          }
         }
        },
        "title": {
         "text": "Optimization History Plot"
        },
        "xaxis": {
         "title": {
          "text": "Trial"
         }
        },
        "yaxis": {
         "title": {
          "text": "Objective Value"
         }
        }
       }
      }
     },
     "metadata": {},
     "output_type": "display_data"
    },
    {
     "name": "stdout",
     "output_type": "stream",
     "text": [
      "\n",
      "Plotting Parameter Importances...\n"
     ]
    },
    {
     "data": {
      "application/vnd.plotly.v1+json": {
       "config": {
        "plotlyServerURL": "https://plot.ly"
       },
       "data": [
        {
         "cliponaxis": false,
         "hovertemplate": [
          "initial_k (CategoricalDistribution): 0.13667848574062366<extra></extra>",
          "temperature (CategoricalDistribution): 0.1635724381645951<extra></extra>",
          "breakpoint_threshold (IntDistribution): 0.26742802616149874<extra></extra>",
          "final_k (IntDistribution): 0.4323210499332824<extra></extra>"
         ],
         "name": "Objective Value",
         "orientation": "h",
         "text": [
          "0.14",
          "0.16",
          "0.27",
          "0.43"
         ],
         "textposition": "outside",
         "type": "bar",
         "x": [
          0.13667848574062366,
          0.1635724381645951,
          0.26742802616149874,
          0.4323210499332824
         ],
         "y": [
          "initial_k",
          "temperature",
          "breakpoint_threshold",
          "final_k"
         ]
        }
       ],
       "layout": {
        "template": {
         "data": {
          "bar": [
           {
            "error_x": {
             "color": "#2a3f5f"
            },
            "error_y": {
             "color": "#2a3f5f"
            },
            "marker": {
             "line": {
              "color": "#E5ECF6",
              "width": 0.5
             },
             "pattern": {
              "fillmode": "overlay",
              "size": 10,
              "solidity": 0.2
             }
            },
            "type": "bar"
           }
          ],
          "barpolar": [
           {
            "marker": {
             "line": {
              "color": "#E5ECF6",
              "width": 0.5
             },
             "pattern": {
              "fillmode": "overlay",
              "size": 10,
              "solidity": 0.2
             }
            },
            "type": "barpolar"
           }
          ],
          "carpet": [
           {
            "aaxis": {
             "endlinecolor": "#2a3f5f",
             "gridcolor": "white",
             "linecolor": "white",
             "minorgridcolor": "white",
             "startlinecolor": "#2a3f5f"
            },
            "baxis": {
             "endlinecolor": "#2a3f5f",
             "gridcolor": "white",
             "linecolor": "white",
             "minorgridcolor": "white",
             "startlinecolor": "#2a3f5f"
            },
            "type": "carpet"
           }
          ],
          "choropleth": [
           {
            "colorbar": {
             "outlinewidth": 0,
             "ticks": ""
            },
            "type": "choropleth"
           }
          ],
          "contour": [
           {
            "colorbar": {
             "outlinewidth": 0,
             "ticks": ""
            },
            "colorscale": [
             [
              0,
              "#0d0887"
             ],
             [
              0.1111111111111111,
              "#46039f"
             ],
             [
              0.2222222222222222,
              "#7201a8"
             ],
             [
              0.3333333333333333,
              "#9c179e"
             ],
             [
              0.4444444444444444,
              "#bd3786"
             ],
             [
              0.5555555555555556,
              "#d8576b"
             ],
             [
              0.6666666666666666,
              "#ed7953"
             ],
             [
              0.7777777777777778,
              "#fb9f3a"
             ],
             [
              0.8888888888888888,
              "#fdca26"
             ],
             [
              1,
              "#f0f921"
             ]
            ],
            "type": "contour"
           }
          ],
          "contourcarpet": [
           {
            "colorbar": {
             "outlinewidth": 0,
             "ticks": ""
            },
            "type": "contourcarpet"
           }
          ],
          "heatmap": [
           {
            "colorbar": {
             "outlinewidth": 0,
             "ticks": ""
            },
            "colorscale": [
             [
              0,
              "#0d0887"
             ],
             [
              0.1111111111111111,
              "#46039f"
             ],
             [
              0.2222222222222222,
              "#7201a8"
             ],
             [
              0.3333333333333333,
              "#9c179e"
             ],
             [
              0.4444444444444444,
              "#bd3786"
             ],
             [
              0.5555555555555556,
              "#d8576b"
             ],
             [
              0.6666666666666666,
              "#ed7953"
             ],
             [
              0.7777777777777778,
              "#fb9f3a"
             ],
             [
              0.8888888888888888,
              "#fdca26"
             ],
             [
              1,
              "#f0f921"
             ]
            ],
            "type": "heatmap"
           }
          ],
          "histogram": [
           {
            "marker": {
             "pattern": {
              "fillmode": "overlay",
              "size": 10,
              "solidity": 0.2
             }
            },
            "type": "histogram"
           }
          ],
          "histogram2d": [
           {
            "colorbar": {
             "outlinewidth": 0,
             "ticks": ""
            },
            "colorscale": [
             [
              0,
              "#0d0887"
             ],
             [
              0.1111111111111111,
              "#46039f"
             ],
             [
              0.2222222222222222,
              "#7201a8"
             ],
             [
              0.3333333333333333,
              "#9c179e"
             ],
             [
              0.4444444444444444,
              "#bd3786"
             ],
             [
              0.5555555555555556,
              "#d8576b"
             ],
             [
              0.6666666666666666,
              "#ed7953"
             ],
             [
              0.7777777777777778,
              "#fb9f3a"
             ],
             [
              0.8888888888888888,
              "#fdca26"
             ],
             [
              1,
              "#f0f921"
             ]
            ],
            "type": "histogram2d"
           }
          ],
          "histogram2dcontour": [
           {
            "colorbar": {
             "outlinewidth": 0,
             "ticks": ""
            },
            "colorscale": [
             [
              0,
              "#0d0887"
             ],
             [
              0.1111111111111111,
              "#46039f"
             ],
             [
              0.2222222222222222,
              "#7201a8"
             ],
             [
              0.3333333333333333,
              "#9c179e"
             ],
             [
              0.4444444444444444,
              "#bd3786"
             ],
             [
              0.5555555555555556,
              "#d8576b"
             ],
             [
              0.6666666666666666,
              "#ed7953"
             ],
             [
              0.7777777777777778,
              "#fb9f3a"
             ],
             [
              0.8888888888888888,
              "#fdca26"
             ],
             [
              1,
              "#f0f921"
             ]
            ],
            "type": "histogram2dcontour"
           }
          ],
          "mesh3d": [
           {
            "colorbar": {
             "outlinewidth": 0,
             "ticks": ""
            },
            "type": "mesh3d"
           }
          ],
          "parcoords": [
           {
            "line": {
             "colorbar": {
              "outlinewidth": 0,
              "ticks": ""
             }
            },
            "type": "parcoords"
           }
          ],
          "pie": [
           {
            "automargin": true,
            "type": "pie"
           }
          ],
          "scatter": [
           {
            "fillpattern": {
             "fillmode": "overlay",
             "size": 10,
             "solidity": 0.2
            },
            "type": "scatter"
           }
          ],
          "scatter3d": [
           {
            "line": {
             "colorbar": {
              "outlinewidth": 0,
              "ticks": ""
             }
            },
            "marker": {
             "colorbar": {
              "outlinewidth": 0,
              "ticks": ""
             }
            },
            "type": "scatter3d"
           }
          ],
          "scattercarpet": [
           {
            "marker": {
             "colorbar": {
              "outlinewidth": 0,
              "ticks": ""
             }
            },
            "type": "scattercarpet"
           }
          ],
          "scattergeo": [
           {
            "marker": {
             "colorbar": {
              "outlinewidth": 0,
              "ticks": ""
             }
            },
            "type": "scattergeo"
           }
          ],
          "scattergl": [
           {
            "marker": {
             "colorbar": {
              "outlinewidth": 0,
              "ticks": ""
             }
            },
            "type": "scattergl"
           }
          ],
          "scattermap": [
           {
            "marker": {
             "colorbar": {
              "outlinewidth": 0,
              "ticks": ""
             }
            },
            "type": "scattermap"
           }
          ],
          "scattermapbox": [
           {
            "marker": {
             "colorbar": {
              "outlinewidth": 0,
              "ticks": ""
             }
            },
            "type": "scattermapbox"
           }
          ],
          "scatterpolar": [
           {
            "marker": {
             "colorbar": {
              "outlinewidth": 0,
              "ticks": ""
             }
            },
            "type": "scatterpolar"
           }
          ],
          "scatterpolargl": [
           {
            "marker": {
             "colorbar": {
              "outlinewidth": 0,
              "ticks": ""
             }
            },
            "type": "scatterpolargl"
           }
          ],
          "scatterternary": [
           {
            "marker": {
             "colorbar": {
              "outlinewidth": 0,
              "ticks": ""
             }
            },
            "type": "scatterternary"
           }
          ],
          "surface": [
           {
            "colorbar": {
             "outlinewidth": 0,
             "ticks": ""
            },
            "colorscale": [
             [
              0,
              "#0d0887"
             ],
             [
              0.1111111111111111,
              "#46039f"
             ],
             [
              0.2222222222222222,
              "#7201a8"
             ],
             [
              0.3333333333333333,
              "#9c179e"
             ],
             [
              0.4444444444444444,
              "#bd3786"
             ],
             [
              0.5555555555555556,
              "#d8576b"
             ],
             [
              0.6666666666666666,
              "#ed7953"
             ],
             [
              0.7777777777777778,
              "#fb9f3a"
             ],
             [
              0.8888888888888888,
              "#fdca26"
             ],
             [
              1,
              "#f0f921"
             ]
            ],
            "type": "surface"
           }
          ],
          "table": [
           {
            "cells": {
             "fill": {
              "color": "#EBF0F8"
             },
             "line": {
              "color": "white"
             }
            },
            "header": {
             "fill": {
              "color": "#C8D4E3"
             },
             "line": {
              "color": "white"
             }
            },
            "type": "table"
           }
          ]
         },
         "layout": {
          "annotationdefaults": {
           "arrowcolor": "#2a3f5f",
           "arrowhead": 0,
           "arrowwidth": 1
          },
          "autotypenumbers": "strict",
          "coloraxis": {
           "colorbar": {
            "outlinewidth": 0,
            "ticks": ""
           }
          },
          "colorscale": {
           "diverging": [
            [
             0,
             "#8e0152"
            ],
            [
             0.1,
             "#c51b7d"
            ],
            [
             0.2,
             "#de77ae"
            ],
            [
             0.3,
             "#f1b6da"
            ],
            [
             0.4,
             "#fde0ef"
            ],
            [
             0.5,
             "#f7f7f7"
            ],
            [
             0.6,
             "#e6f5d0"
            ],
            [
             0.7,
             "#b8e186"
            ],
            [
             0.8,
             "#7fbc41"
            ],
            [
             0.9,
             "#4d9221"
            ],
            [
             1,
             "#276419"
            ]
           ],
           "sequential": [
            [
             0,
             "#0d0887"
            ],
            [
             0.1111111111111111,
             "#46039f"
            ],
            [
             0.2222222222222222,
             "#7201a8"
            ],
            [
             0.3333333333333333,
             "#9c179e"
            ],
            [
             0.4444444444444444,
             "#bd3786"
            ],
            [
             0.5555555555555556,
             "#d8576b"
            ],
            [
             0.6666666666666666,
             "#ed7953"
            ],
            [
             0.7777777777777778,
             "#fb9f3a"
            ],
            [
             0.8888888888888888,
             "#fdca26"
            ],
            [
             1,
             "#f0f921"
            ]
           ],
           "sequentialminus": [
            [
             0,
             "#0d0887"
            ],
            [
             0.1111111111111111,
             "#46039f"
            ],
            [
             0.2222222222222222,
             "#7201a8"
            ],
            [
             0.3333333333333333,
             "#9c179e"
            ],
            [
             0.4444444444444444,
             "#bd3786"
            ],
            [
             0.5555555555555556,
             "#d8576b"
            ],
            [
             0.6666666666666666,
             "#ed7953"
            ],
            [
             0.7777777777777778,
             "#fb9f3a"
            ],
            [
             0.8888888888888888,
             "#fdca26"
            ],
            [
             1,
             "#f0f921"
            ]
           ]
          },
          "colorway": [
           "#636efa",
           "#EF553B",
           "#00cc96",
           "#ab63fa",
           "#FFA15A",
           "#19d3f3",
           "#FF6692",
           "#B6E880",
           "#FF97FF",
           "#FECB52"
          ],
          "font": {
           "color": "#2a3f5f"
          },
          "geo": {
           "bgcolor": "white",
           "lakecolor": "white",
           "landcolor": "#E5ECF6",
           "showlakes": true,
           "showland": true,
           "subunitcolor": "white"
          },
          "hoverlabel": {
           "align": "left"
          },
          "hovermode": "closest",
          "mapbox": {
           "style": "light"
          },
          "paper_bgcolor": "white",
          "plot_bgcolor": "#E5ECF6",
          "polar": {
           "angularaxis": {
            "gridcolor": "white",
            "linecolor": "white",
            "ticks": ""
           },
           "bgcolor": "#E5ECF6",
           "radialaxis": {
            "gridcolor": "white",
            "linecolor": "white",
            "ticks": ""
           }
          },
          "scene": {
           "xaxis": {
            "backgroundcolor": "#E5ECF6",
            "gridcolor": "white",
            "gridwidth": 2,
            "linecolor": "white",
            "showbackground": true,
            "ticks": "",
            "zerolinecolor": "white"
           },
           "yaxis": {
            "backgroundcolor": "#E5ECF6",
            "gridcolor": "white",
            "gridwidth": 2,
            "linecolor": "white",
            "showbackground": true,
            "ticks": "",
            "zerolinecolor": "white"
           },
           "zaxis": {
            "backgroundcolor": "#E5ECF6",
            "gridcolor": "white",
            "gridwidth": 2,
            "linecolor": "white",
            "showbackground": true,
            "ticks": "",
            "zerolinecolor": "white"
           }
          },
          "shapedefaults": {
           "line": {
            "color": "#2a3f5f"
           }
          },
          "ternary": {
           "aaxis": {
            "gridcolor": "white",
            "linecolor": "white",
            "ticks": ""
           },
           "baxis": {
            "gridcolor": "white",
            "linecolor": "white",
            "ticks": ""
           },
           "bgcolor": "#E5ECF6",
           "caxis": {
            "gridcolor": "white",
            "linecolor": "white",
            "ticks": ""
           }
          },
          "title": {
           "x": 0.05
          },
          "xaxis": {
           "automargin": true,
           "gridcolor": "white",
           "linecolor": "white",
           "ticks": "",
           "title": {
            "standoff": 15
           },
           "zerolinecolor": "white",
           "zerolinewidth": 2
          },
          "yaxis": {
           "automargin": true,
           "gridcolor": "white",
           "linecolor": "white",
           "ticks": "",
           "title": {
            "standoff": 15
           },
           "zerolinecolor": "white",
           "zerolinewidth": 2
          }
         }
        },
        "title": {
         "text": "Hyperparameter Importances"
        },
        "xaxis": {
         "title": {
          "text": "Hyperparameter Importance"
         }
        },
        "yaxis": {
         "title": {
          "text": "Hyperparameter"
         }
        }
       }
      }
     },
     "metadata": {},
     "output_type": "display_data"
    },
    {
     "name": "stdout",
     "output_type": "stream",
     "text": [
      "\n",
      "Plotting Slice Plot...\n"
     ]
    },
    {
     "data": {
      "application/vnd.plotly.v1+json": {
       "config": {
        "plotlyServerURL": "https://plot.ly"
       },
       "data": [
        {
         "marker": {
          "color": [
           0,
           1,
           2,
           3,
           4,
           5,
           6,
           7,
           8,
           9,
           10,
           11,
           12,
           13,
           14,
           15,
           16,
           17,
           18,
           19
          ],
          "colorbar": {
           "title": {
            "text": "Trial"
           },
           "x": 1,
           "xpad": 40
          },
          "colorscale": [
           [
            0,
            "rgb(247,251,255)"
           ],
           [
            0.125,
            "rgb(222,235,247)"
           ],
           [
            0.25,
            "rgb(198,219,239)"
           ],
           [
            0.375,
            "rgb(158,202,225)"
           ],
           [
            0.5,
            "rgb(107,174,214)"
           ],
           [
            0.625,
            "rgb(66,146,198)"
           ],
           [
            0.75,
            "rgb(33,113,181)"
           ],
           [
            0.875,
            "rgb(8,81,156)"
           ],
           [
            1,
            "rgb(8,48,107)"
           ]
          ],
          "line": {
           "color": "Grey",
           "width": 0.5
          },
          "showscale": true
         },
         "mode": "markers",
         "name": "Feasible Trial",
         "showlegend": false,
         "type": "scatter",
         "x": [
          95,
          95,
          98,
          99,
          96,
          93,
          92,
          90,
          90,
          99,
          96,
          96,
          94,
          97,
          97,
          97,
          97,
          94,
          98,
          92
         ],
         "xaxis": "x",
         "y": [
          0.93,
          0.9390000000000001,
          0.924,
          0.875,
          0.8715,
          0.911,
          0.9169999999999999,
          0.9075000000000001,
          0.892,
          0.861,
          0.932,
          0.9525000000000001,
          0.9005,
          0.9400000000000001,
          0.9239999999999999,
          0.962,
          0.9309999999999999,
          0.9480000000000001,
          0.912,
          0.906
         ],
         "yaxis": "y"
        },
        {
         "marker": {
          "color": [
           0,
           1,
           2,
           3,
           4,
           5,
           6,
           7,
           8,
           9,
           10,
           11,
           12,
           13,
           14,
           15,
           16,
           17,
           18,
           19
          ],
          "colorbar": {
           "title": {
            "text": "Trial"
           },
           "x": 1,
           "xpad": 40
          },
          "colorscale": [
           [
            0,
            "rgb(247,251,255)"
           ],
           [
            0.125,
            "rgb(222,235,247)"
           ],
           [
            0.25,
            "rgb(198,219,239)"
           ],
           [
            0.375,
            "rgb(158,202,225)"
           ],
           [
            0.5,
            "rgb(107,174,214)"
           ],
           [
            0.625,
            "rgb(66,146,198)"
           ],
           [
            0.75,
            "rgb(33,113,181)"
           ],
           [
            0.875,
            "rgb(8,81,156)"
           ],
           [
            1,
            "rgb(8,48,107)"
           ]
          ],
          "line": {
           "color": "Grey",
           "width": 0.5
          },
          "showscale": false
         },
         "mode": "markers",
         "name": "Feasible Trial",
         "showlegend": false,
         "type": "scatter",
         "x": [
          5,
          8,
          4,
          4,
          4,
          4,
          4,
          4,
          3,
          3,
          9,
          9,
          9,
          7,
          7,
          10,
          10,
          10,
          9,
          8
         ],
         "xaxis": "x2",
         "y": [
          0.93,
          0.9390000000000001,
          0.924,
          0.875,
          0.8715,
          0.911,
          0.9169999999999999,
          0.9075000000000001,
          0.892,
          0.861,
          0.932,
          0.9525000000000001,
          0.9005,
          0.9400000000000001,
          0.9239999999999999,
          0.962,
          0.9309999999999999,
          0.9480000000000001,
          0.912,
          0.906
         ],
         "yaxis": "y2"
        },
        {
         "marker": {
          "color": [
           0,
           1,
           2,
           3,
           4,
           5,
           6,
           7,
           8,
           9,
           10,
           11,
           12,
           13,
           14,
           15,
           16,
           17,
           18,
           19
          ],
          "colorbar": {
           "title": {
            "text": "Trial"
           },
           "x": 1,
           "xpad": 40
          },
          "colorscale": [
           [
            0,
            "rgb(247,251,255)"
           ],
           [
            0.125,
            "rgb(222,235,247)"
           ],
           [
            0.25,
            "rgb(198,219,239)"
           ],
           [
            0.375,
            "rgb(158,202,225)"
           ],
           [
            0.5,
            "rgb(107,174,214)"
           ],
           [
            0.625,
            "rgb(66,146,198)"
           ],
           [
            0.75,
            "rgb(33,113,181)"
           ],
           [
            0.875,
            "rgb(8,81,156)"
           ],
           [
            1,
            "rgb(8,48,107)"
           ]
          ],
          "line": {
           "color": "Grey",
           "width": 0.5
          },
          "showscale": false
         },
         "mode": "markers",
         "name": "Feasible Trial",
         "showlegend": false,
         "type": "scatter",
         "x": [
          25,
          25,
          35,
          25,
          30,
          40,
          25,
          25,
          40,
          25,
          20,
          20,
          20,
          20,
          20,
          20,
          20,
          35,
          30,
          20
         ],
         "xaxis": "x3",
         "y": [
          0.93,
          0.9390000000000001,
          0.924,
          0.875,
          0.8715,
          0.911,
          0.9169999999999999,
          0.9075000000000001,
          0.892,
          0.861,
          0.932,
          0.9525000000000001,
          0.9005,
          0.9400000000000001,
          0.9239999999999999,
          0.962,
          0.9309999999999999,
          0.9480000000000001,
          0.912,
          0.906
         ],
         "yaxis": "y3"
        },
        {
         "marker": {
          "color": [
           0,
           1,
           2,
           3,
           4,
           5,
           6,
           7,
           8,
           9,
           10,
           11,
           12,
           13,
           14,
           15,
           16,
           17,
           18,
           19
          ],
          "colorbar": {
           "title": {
            "text": "Trial"
           },
           "x": 1,
           "xpad": 40
          },
          "colorscale": [
           [
            0,
            "rgb(247,251,255)"
           ],
           [
            0.125,
            "rgb(222,235,247)"
           ],
           [
            0.25,
            "rgb(198,219,239)"
           ],
           [
            0.375,
            "rgb(158,202,225)"
           ],
           [
            0.5,
            "rgb(107,174,214)"
           ],
           [
            0.625,
            "rgb(66,146,198)"
           ],
           [
            0.75,
            "rgb(33,113,181)"
           ],
           [
            0.875,
            "rgb(8,81,156)"
           ],
           [
            1,
            "rgb(8,48,107)"
           ]
          ],
          "line": {
           "color": "Grey",
           "width": 0.5
          },
          "showscale": false
         },
         "mode": "markers",
         "name": "Feasible Trial",
         "showlegend": false,
         "type": "scatter",
         "x": [
          0.9,
          0.9,
          0.5,
          0.9,
          0.9,
          0.5,
          0.5,
          0.1,
          0.5,
          0.9,
          0.1,
          0.1,
          0.1,
          0.1,
          0.1,
          0.1,
          0.1,
          0.1,
          0.1,
          0.1
         ],
         "xaxis": "x4",
         "y": [
          0.93,
          0.9390000000000001,
          0.924,
          0.875,
          0.8715,
          0.911,
          0.9169999999999999,
          0.9075000000000001,
          0.892,
          0.861,
          0.932,
          0.9525000000000001,
          0.9005,
          0.9400000000000001,
          0.9239999999999999,
          0.962,
          0.9309999999999999,
          0.9480000000000001,
          0.912,
          0.906
         ],
         "yaxis": "y4"
        }
       ],
       "layout": {
        "template": {
         "data": {
          "bar": [
           {
            "error_x": {
             "color": "#2a3f5f"
            },
            "error_y": {
             "color": "#2a3f5f"
            },
            "marker": {
             "line": {
              "color": "#E5ECF6",
              "width": 0.5
             },
             "pattern": {
              "fillmode": "overlay",
              "size": 10,
              "solidity": 0.2
             }
            },
            "type": "bar"
           }
          ],
          "barpolar": [
           {
            "marker": {
             "line": {
              "color": "#E5ECF6",
              "width": 0.5
             },
             "pattern": {
              "fillmode": "overlay",
              "size": 10,
              "solidity": 0.2
             }
            },
            "type": "barpolar"
           }
          ],
          "carpet": [
           {
            "aaxis": {
             "endlinecolor": "#2a3f5f",
             "gridcolor": "white",
             "linecolor": "white",
             "minorgridcolor": "white",
             "startlinecolor": "#2a3f5f"
            },
            "baxis": {
             "endlinecolor": "#2a3f5f",
             "gridcolor": "white",
             "linecolor": "white",
             "minorgridcolor": "white",
             "startlinecolor": "#2a3f5f"
            },
            "type": "carpet"
           }
          ],
          "choropleth": [
           {
            "colorbar": {
             "outlinewidth": 0,
             "ticks": ""
            },
            "type": "choropleth"
           }
          ],
          "contour": [
           {
            "colorbar": {
             "outlinewidth": 0,
             "ticks": ""
            },
            "colorscale": [
             [
              0,
              "#0d0887"
             ],
             [
              0.1111111111111111,
              "#46039f"
             ],
             [
              0.2222222222222222,
              "#7201a8"
             ],
             [
              0.3333333333333333,
              "#9c179e"
             ],
             [
              0.4444444444444444,
              "#bd3786"
             ],
             [
              0.5555555555555556,
              "#d8576b"
             ],
             [
              0.6666666666666666,
              "#ed7953"
             ],
             [
              0.7777777777777778,
              "#fb9f3a"
             ],
             [
              0.8888888888888888,
              "#fdca26"
             ],
             [
              1,
              "#f0f921"
             ]
            ],
            "type": "contour"
           }
          ],
          "contourcarpet": [
           {
            "colorbar": {
             "outlinewidth": 0,
             "ticks": ""
            },
            "type": "contourcarpet"
           }
          ],
          "heatmap": [
           {
            "colorbar": {
             "outlinewidth": 0,
             "ticks": ""
            },
            "colorscale": [
             [
              0,
              "#0d0887"
             ],
             [
              0.1111111111111111,
              "#46039f"
             ],
             [
              0.2222222222222222,
              "#7201a8"
             ],
             [
              0.3333333333333333,
              "#9c179e"
             ],
             [
              0.4444444444444444,
              "#bd3786"
             ],
             [
              0.5555555555555556,
              "#d8576b"
             ],
             [
              0.6666666666666666,
              "#ed7953"
             ],
             [
              0.7777777777777778,
              "#fb9f3a"
             ],
             [
              0.8888888888888888,
              "#fdca26"
             ],
             [
              1,
              "#f0f921"
             ]
            ],
            "type": "heatmap"
           }
          ],
          "histogram": [
           {
            "marker": {
             "pattern": {
              "fillmode": "overlay",
              "size": 10,
              "solidity": 0.2
             }
            },
            "type": "histogram"
           }
          ],
          "histogram2d": [
           {
            "colorbar": {
             "outlinewidth": 0,
             "ticks": ""
            },
            "colorscale": [
             [
              0,
              "#0d0887"
             ],
             [
              0.1111111111111111,
              "#46039f"
             ],
             [
              0.2222222222222222,
              "#7201a8"
             ],
             [
              0.3333333333333333,
              "#9c179e"
             ],
             [
              0.4444444444444444,
              "#bd3786"
             ],
             [
              0.5555555555555556,
              "#d8576b"
             ],
             [
              0.6666666666666666,
              "#ed7953"
             ],
             [
              0.7777777777777778,
              "#fb9f3a"
             ],
             [
              0.8888888888888888,
              "#fdca26"
             ],
             [
              1,
              "#f0f921"
             ]
            ],
            "type": "histogram2d"
           }
          ],
          "histogram2dcontour": [
           {
            "colorbar": {
             "outlinewidth": 0,
             "ticks": ""
            },
            "colorscale": [
             [
              0,
              "#0d0887"
             ],
             [
              0.1111111111111111,
              "#46039f"
             ],
             [
              0.2222222222222222,
              "#7201a8"
             ],
             [
              0.3333333333333333,
              "#9c179e"
             ],
             [
              0.4444444444444444,
              "#bd3786"
             ],
             [
              0.5555555555555556,
              "#d8576b"
             ],
             [
              0.6666666666666666,
              "#ed7953"
             ],
             [
              0.7777777777777778,
              "#fb9f3a"
             ],
             [
              0.8888888888888888,
              "#fdca26"
             ],
             [
              1,
              "#f0f921"
             ]
            ],
            "type": "histogram2dcontour"
           }
          ],
          "mesh3d": [
           {
            "colorbar": {
             "outlinewidth": 0,
             "ticks": ""
            },
            "type": "mesh3d"
           }
          ],
          "parcoords": [
           {
            "line": {
             "colorbar": {
              "outlinewidth": 0,
              "ticks": ""
             }
            },
            "type": "parcoords"
           }
          ],
          "pie": [
           {
            "automargin": true,
            "type": "pie"
           }
          ],
          "scatter": [
           {
            "fillpattern": {
             "fillmode": "overlay",
             "size": 10,
             "solidity": 0.2
            },
            "type": "scatter"
           }
          ],
          "scatter3d": [
           {
            "line": {
             "colorbar": {
              "outlinewidth": 0,
              "ticks": ""
             }
            },
            "marker": {
             "colorbar": {
              "outlinewidth": 0,
              "ticks": ""
             }
            },
            "type": "scatter3d"
           }
          ],
          "scattercarpet": [
           {
            "marker": {
             "colorbar": {
              "outlinewidth": 0,
              "ticks": ""
             }
            },
            "type": "scattercarpet"
           }
          ],
          "scattergeo": [
           {
            "marker": {
             "colorbar": {
              "outlinewidth": 0,
              "ticks": ""
             }
            },
            "type": "scattergeo"
           }
          ],
          "scattergl": [
           {
            "marker": {
             "colorbar": {
              "outlinewidth": 0,
              "ticks": ""
             }
            },
            "type": "scattergl"
           }
          ],
          "scattermap": [
           {
            "marker": {
             "colorbar": {
              "outlinewidth": 0,
              "ticks": ""
             }
            },
            "type": "scattermap"
           }
          ],
          "scattermapbox": [
           {
            "marker": {
             "colorbar": {
              "outlinewidth": 0,
              "ticks": ""
             }
            },
            "type": "scattermapbox"
           }
          ],
          "scatterpolar": [
           {
            "marker": {
             "colorbar": {
              "outlinewidth": 0,
              "ticks": ""
             }
            },
            "type": "scatterpolar"
           }
          ],
          "scatterpolargl": [
           {
            "marker": {
             "colorbar": {
              "outlinewidth": 0,
              "ticks": ""
             }
            },
            "type": "scatterpolargl"
           }
          ],
          "scatterternary": [
           {
            "marker": {
             "colorbar": {
              "outlinewidth": 0,
              "ticks": ""
             }
            },
            "type": "scatterternary"
           }
          ],
          "surface": [
           {
            "colorbar": {
             "outlinewidth": 0,
             "ticks": ""
            },
            "colorscale": [
             [
              0,
              "#0d0887"
             ],
             [
              0.1111111111111111,
              "#46039f"
             ],
             [
              0.2222222222222222,
              "#7201a8"
             ],
             [
              0.3333333333333333,
              "#9c179e"
             ],
             [
              0.4444444444444444,
              "#bd3786"
             ],
             [
              0.5555555555555556,
              "#d8576b"
             ],
             [
              0.6666666666666666,
              "#ed7953"
             ],
             [
              0.7777777777777778,
              "#fb9f3a"
             ],
             [
              0.8888888888888888,
              "#fdca26"
             ],
             [
              1,
              "#f0f921"
             ]
            ],
            "type": "surface"
           }
          ],
          "table": [
           {
            "cells": {
             "fill": {
              "color": "#EBF0F8"
             },
             "line": {
              "color": "white"
             }
            },
            "header": {
             "fill": {
              "color": "#C8D4E3"
             },
             "line": {
              "color": "white"
             }
            },
            "type": "table"
           }
          ]
         },
         "layout": {
          "annotationdefaults": {
           "arrowcolor": "#2a3f5f",
           "arrowhead": 0,
           "arrowwidth": 1
          },
          "autotypenumbers": "strict",
          "coloraxis": {
           "colorbar": {
            "outlinewidth": 0,
            "ticks": ""
           }
          },
          "colorscale": {
           "diverging": [
            [
             0,
             "#8e0152"
            ],
            [
             0.1,
             "#c51b7d"
            ],
            [
             0.2,
             "#de77ae"
            ],
            [
             0.3,
             "#f1b6da"
            ],
            [
             0.4,
             "#fde0ef"
            ],
            [
             0.5,
             "#f7f7f7"
            ],
            [
             0.6,
             "#e6f5d0"
            ],
            [
             0.7,
             "#b8e186"
            ],
            [
             0.8,
             "#7fbc41"
            ],
            [
             0.9,
             "#4d9221"
            ],
            [
             1,
             "#276419"
            ]
           ],
           "sequential": [
            [
             0,
             "#0d0887"
            ],
            [
             0.1111111111111111,
             "#46039f"
            ],
            [
             0.2222222222222222,
             "#7201a8"
            ],
            [
             0.3333333333333333,
             "#9c179e"
            ],
            [
             0.4444444444444444,
             "#bd3786"
            ],
            [
             0.5555555555555556,
             "#d8576b"
            ],
            [
             0.6666666666666666,
             "#ed7953"
            ],
            [
             0.7777777777777778,
             "#fb9f3a"
            ],
            [
             0.8888888888888888,
             "#fdca26"
            ],
            [
             1,
             "#f0f921"
            ]
           ],
           "sequentialminus": [
            [
             0,
             "#0d0887"
            ],
            [
             0.1111111111111111,
             "#46039f"
            ],
            [
             0.2222222222222222,
             "#7201a8"
            ],
            [
             0.3333333333333333,
             "#9c179e"
            ],
            [
             0.4444444444444444,
             "#bd3786"
            ],
            [
             0.5555555555555556,
             "#d8576b"
            ],
            [
             0.6666666666666666,
             "#ed7953"
            ],
            [
             0.7777777777777778,
             "#fb9f3a"
            ],
            [
             0.8888888888888888,
             "#fdca26"
            ],
            [
             1,
             "#f0f921"
            ]
           ]
          },
          "colorway": [
           "#636efa",
           "#EF553B",
           "#00cc96",
           "#ab63fa",
           "#FFA15A",
           "#19d3f3",
           "#FF6692",
           "#B6E880",
           "#FF97FF",
           "#FECB52"
          ],
          "font": {
           "color": "#2a3f5f"
          },
          "geo": {
           "bgcolor": "white",
           "lakecolor": "white",
           "landcolor": "#E5ECF6",
           "showlakes": true,
           "showland": true,
           "subunitcolor": "white"
          },
          "hoverlabel": {
           "align": "left"
          },
          "hovermode": "closest",
          "mapbox": {
           "style": "light"
          },
          "paper_bgcolor": "white",
          "plot_bgcolor": "#E5ECF6",
          "polar": {
           "angularaxis": {
            "gridcolor": "white",
            "linecolor": "white",
            "ticks": ""
           },
           "bgcolor": "#E5ECF6",
           "radialaxis": {
            "gridcolor": "white",
            "linecolor": "white",
            "ticks": ""
           }
          },
          "scene": {
           "xaxis": {
            "backgroundcolor": "#E5ECF6",
            "gridcolor": "white",
            "gridwidth": 2,
            "linecolor": "white",
            "showbackground": true,
            "ticks": "",
            "zerolinecolor": "white"
           },
           "yaxis": {
            "backgroundcolor": "#E5ECF6",
            "gridcolor": "white",
            "gridwidth": 2,
            "linecolor": "white",
            "showbackground": true,
            "ticks": "",
            "zerolinecolor": "white"
           },
           "zaxis": {
            "backgroundcolor": "#E5ECF6",
            "gridcolor": "white",
            "gridwidth": 2,
            "linecolor": "white",
            "showbackground": true,
            "ticks": "",
            "zerolinecolor": "white"
           }
          },
          "shapedefaults": {
           "line": {
            "color": "#2a3f5f"
           }
          },
          "ternary": {
           "aaxis": {
            "gridcolor": "white",
            "linecolor": "white",
            "ticks": ""
           },
           "baxis": {
            "gridcolor": "white",
            "linecolor": "white",
            "ticks": ""
           },
           "bgcolor": "#E5ECF6",
           "caxis": {
            "gridcolor": "white",
            "linecolor": "white",
            "ticks": ""
           }
          },
          "title": {
           "x": 0.05
          },
          "xaxis": {
           "automargin": true,
           "gridcolor": "white",
           "linecolor": "white",
           "ticks": "",
           "title": {
            "standoff": 15
           },
           "zerolinecolor": "white",
           "zerolinewidth": 2
          },
          "yaxis": {
           "automargin": true,
           "gridcolor": "white",
           "linecolor": "white",
           "ticks": "",
           "title": {
            "standoff": 15
           },
           "zerolinecolor": "white",
           "zerolinewidth": 2
          }
         }
        },
        "title": {
         "text": "Slice Plot"
        },
        "width": 1200,
        "xaxis": {
         "anchor": "y",
         "domain": [
          0,
          0.2125
         ],
         "title": {
          "text": "breakpoint_threshold"
         }
        },
        "xaxis2": {
         "anchor": "y2",
         "domain": [
          0.2625,
          0.475
         ],
         "title": {
          "text": "final_k"
         }
        },
        "xaxis3": {
         "anchor": "y3",
         "categoryarray": [
          20,
          25,
          30,
          35,
          40
         ],
         "categoryorder": "array",
         "domain": [
          0.525,
          0.7375
         ],
         "title": {
          "text": "initial_k"
         },
         "type": "category"
        },
        "xaxis4": {
         "anchor": "y4",
         "categoryarray": [
          0.1,
          0.5,
          0.9
         ],
         "categoryorder": "array",
         "domain": [
          0.7875,
          1
         ],
         "title": {
          "text": "temperature"
         },
         "type": "category"
        },
        "yaxis": {
         "anchor": "x",
         "domain": [
          0,
          1
         ],
         "title": {
          "text": "Objective Value"
         }
        },
        "yaxis2": {
         "anchor": "x2",
         "domain": [
          0,
          1
         ],
         "matches": "y",
         "showticklabels": false
        },
        "yaxis3": {
         "anchor": "x3",
         "domain": [
          0,
          1
         ],
         "matches": "y",
         "showticklabels": false
        },
        "yaxis4": {
         "anchor": "x4",
         "domain": [
          0,
          1
         ],
         "matches": "y",
         "showticklabels": false
        }
       }
      }
     },
     "metadata": {},
     "output_type": "display_data"
    },
    {
     "name": "stdout",
     "output_type": "stream",
     "text": [
      "\n",
      "Plotting Parallel Coordinate Plot...\n"
     ]
    },
    {
     "data": {
      "application/vnd.plotly.v1+json": {
       "config": {
        "plotlyServerURL": "https://plot.ly"
       },
       "data": [
        {
         "dimensions": [
          {
           "label": "Objective Value",
           "range": [
            0.861,
            0.962
           ],
           "values": [
            0.932,
            0.9525000000000001,
            0.9005,
            0.9400000000000001,
            0.9239999999999999,
            0.962,
            0.9309999999999999,
            0.906,
            0.9075000000000001,
            0.9169999999999999,
            0.93,
            0.9390000000000001,
            0.875,
            0.861,
            0.912,
            0.8715,
            0.9480000000000001,
            0.924,
            0.911,
            0.892
           ]
          },
          {
           "label": "breakpoint_thresh...",
           "range": [
            90,
            99
           ],
           "values": [
            96,
            96,
            94,
            97,
            97,
            97,
            97,
            92,
            90,
            92,
            95,
            95,
            99,
            99,
            98,
            96,
            94,
            98,
            93,
            90
           ]
          },
          {
           "label": "final_k",
           "range": [
            3,
            10
           ],
           "values": [
            9,
            9,
            9,
            7,
            7,
            10,
            10,
            8,
            4,
            4,
            5,
            8,
            4,
            3,
            9,
            4,
            10,
            4,
            4,
            3
           ]
          },
          {
           "label": "initial_k",
           "range": [
            0,
            4
           ],
           "ticktext": [
            "20",
            "25",
            "30",
            "35",
            "40"
           ],
           "tickvals": [
            0,
            1,
            2,
            3,
            4
           ],
           "values": [
            0,
            0,
            0,
            0,
            0,
            0,
            0,
            0,
            1,
            1,
            1,
            1,
            1,
            1,
            2,
            2,
            3,
            3,
            4,
            4
           ]
          },
          {
           "label": "temperature",
           "range": [
            0,
            2
           ],
           "ticktext": [
            "0.1",
            "0.5",
            "0.9"
           ],
           "tickvals": [
            0,
            1,
            2
           ],
           "values": [
            0,
            0,
            0,
            0,
            0,
            0,
            0,
            0,
            0,
            1,
            2,
            2,
            2,
            2,
            0,
            2,
            0,
            1,
            1,
            1
           ]
          }
         ],
         "labelangle": 30,
         "labelside": "bottom",
         "line": {
          "color": [
           0.932,
           0.9525000000000001,
           0.9005,
           0.9400000000000001,
           0.9239999999999999,
           0.962,
           0.9309999999999999,
           0.906,
           0.9075000000000001,
           0.9169999999999999,
           0.93,
           0.9390000000000001,
           0.875,
           0.861,
           0.912,
           0.8715,
           0.9480000000000001,
           0.924,
           0.911,
           0.892
          ],
          "colorbar": {
           "title": {
            "text": "Objective Value"
           }
          },
          "colorscale": [
           [
            0,
            "rgb(247,251,255)"
           ],
           [
            0.125,
            "rgb(222,235,247)"
           ],
           [
            0.25,
            "rgb(198,219,239)"
           ],
           [
            0.375,
            "rgb(158,202,225)"
           ],
           [
            0.5,
            "rgb(107,174,214)"
           ],
           [
            0.625,
            "rgb(66,146,198)"
           ],
           [
            0.75,
            "rgb(33,113,181)"
           ],
           [
            0.875,
            "rgb(8,81,156)"
           ],
           [
            1,
            "rgb(8,48,107)"
           ]
          ],
          "reversescale": false,
          "showscale": true
         },
         "type": "parcoords"
        }
       ],
       "layout": {
        "template": {
         "data": {
          "bar": [
           {
            "error_x": {
             "color": "#2a3f5f"
            },
            "error_y": {
             "color": "#2a3f5f"
            },
            "marker": {
             "line": {
              "color": "#E5ECF6",
              "width": 0.5
             },
             "pattern": {
              "fillmode": "overlay",
              "size": 10,
              "solidity": 0.2
             }
            },
            "type": "bar"
           }
          ],
          "barpolar": [
           {
            "marker": {
             "line": {
              "color": "#E5ECF6",
              "width": 0.5
             },
             "pattern": {
              "fillmode": "overlay",
              "size": 10,
              "solidity": 0.2
             }
            },
            "type": "barpolar"
           }
          ],
          "carpet": [
           {
            "aaxis": {
             "endlinecolor": "#2a3f5f",
             "gridcolor": "white",
             "linecolor": "white",
             "minorgridcolor": "white",
             "startlinecolor": "#2a3f5f"
            },
            "baxis": {
             "endlinecolor": "#2a3f5f",
             "gridcolor": "white",
             "linecolor": "white",
             "minorgridcolor": "white",
             "startlinecolor": "#2a3f5f"
            },
            "type": "carpet"
           }
          ],
          "choropleth": [
           {
            "colorbar": {
             "outlinewidth": 0,
             "ticks": ""
            },
            "type": "choropleth"
           }
          ],
          "contour": [
           {
            "colorbar": {
             "outlinewidth": 0,
             "ticks": ""
            },
            "colorscale": [
             [
              0,
              "#0d0887"
             ],
             [
              0.1111111111111111,
              "#46039f"
             ],
             [
              0.2222222222222222,
              "#7201a8"
             ],
             [
              0.3333333333333333,
              "#9c179e"
             ],
             [
              0.4444444444444444,
              "#bd3786"
             ],
             [
              0.5555555555555556,
              "#d8576b"
             ],
             [
              0.6666666666666666,
              "#ed7953"
             ],
             [
              0.7777777777777778,
              "#fb9f3a"
             ],
             [
              0.8888888888888888,
              "#fdca26"
             ],
             [
              1,
              "#f0f921"
             ]
            ],
            "type": "contour"
           }
          ],
          "contourcarpet": [
           {
            "colorbar": {
             "outlinewidth": 0,
             "ticks": ""
            },
            "type": "contourcarpet"
           }
          ],
          "heatmap": [
           {
            "colorbar": {
             "outlinewidth": 0,
             "ticks": ""
            },
            "colorscale": [
             [
              0,
              "#0d0887"
             ],
             [
              0.1111111111111111,
              "#46039f"
             ],
             [
              0.2222222222222222,
              "#7201a8"
             ],
             [
              0.3333333333333333,
              "#9c179e"
             ],
             [
              0.4444444444444444,
              "#bd3786"
             ],
             [
              0.5555555555555556,
              "#d8576b"
             ],
             [
              0.6666666666666666,
              "#ed7953"
             ],
             [
              0.7777777777777778,
              "#fb9f3a"
             ],
             [
              0.8888888888888888,
              "#fdca26"
             ],
             [
              1,
              "#f0f921"
             ]
            ],
            "type": "heatmap"
           }
          ],
          "histogram": [
           {
            "marker": {
             "pattern": {
              "fillmode": "overlay",
              "size": 10,
              "solidity": 0.2
             }
            },
            "type": "histogram"
           }
          ],
          "histogram2d": [
           {
            "colorbar": {
             "outlinewidth": 0,
             "ticks": ""
            },
            "colorscale": [
             [
              0,
              "#0d0887"
             ],
             [
              0.1111111111111111,
              "#46039f"
             ],
             [
              0.2222222222222222,
              "#7201a8"
             ],
             [
              0.3333333333333333,
              "#9c179e"
             ],
             [
              0.4444444444444444,
              "#bd3786"
             ],
             [
              0.5555555555555556,
              "#d8576b"
             ],
             [
              0.6666666666666666,
              "#ed7953"
             ],
             [
              0.7777777777777778,
              "#fb9f3a"
             ],
             [
              0.8888888888888888,
              "#fdca26"
             ],
             [
              1,
              "#f0f921"
             ]
            ],
            "type": "histogram2d"
           }
          ],
          "histogram2dcontour": [
           {
            "colorbar": {
             "outlinewidth": 0,
             "ticks": ""
            },
            "colorscale": [
             [
              0,
              "#0d0887"
             ],
             [
              0.1111111111111111,
              "#46039f"
             ],
             [
              0.2222222222222222,
              "#7201a8"
             ],
             [
              0.3333333333333333,
              "#9c179e"
             ],
             [
              0.4444444444444444,
              "#bd3786"
             ],
             [
              0.5555555555555556,
              "#d8576b"
             ],
             [
              0.6666666666666666,
              "#ed7953"
             ],
             [
              0.7777777777777778,
              "#fb9f3a"
             ],
             [
              0.8888888888888888,
              "#fdca26"
             ],
             [
              1,
              "#f0f921"
             ]
            ],
            "type": "histogram2dcontour"
           }
          ],
          "mesh3d": [
           {
            "colorbar": {
             "outlinewidth": 0,
             "ticks": ""
            },
            "type": "mesh3d"
           }
          ],
          "parcoords": [
           {
            "line": {
             "colorbar": {
              "outlinewidth": 0,
              "ticks": ""
             }
            },
            "type": "parcoords"
           }
          ],
          "pie": [
           {
            "automargin": true,
            "type": "pie"
           }
          ],
          "scatter": [
           {
            "fillpattern": {
             "fillmode": "overlay",
             "size": 10,
             "solidity": 0.2
            },
            "type": "scatter"
           }
          ],
          "scatter3d": [
           {
            "line": {
             "colorbar": {
              "outlinewidth": 0,
              "ticks": ""
             }
            },
            "marker": {
             "colorbar": {
              "outlinewidth": 0,
              "ticks": ""
             }
            },
            "type": "scatter3d"
           }
          ],
          "scattercarpet": [
           {
            "marker": {
             "colorbar": {
              "outlinewidth": 0,
              "ticks": ""
             }
            },
            "type": "scattercarpet"
           }
          ],
          "scattergeo": [
           {
            "marker": {
             "colorbar": {
              "outlinewidth": 0,
              "ticks": ""
             }
            },
            "type": "scattergeo"
           }
          ],
          "scattergl": [
           {
            "marker": {
             "colorbar": {
              "outlinewidth": 0,
              "ticks": ""
             }
            },
            "type": "scattergl"
           }
          ],
          "scattermap": [
           {
            "marker": {
             "colorbar": {
              "outlinewidth": 0,
              "ticks": ""
             }
            },
            "type": "scattermap"
           }
          ],
          "scattermapbox": [
           {
            "marker": {
             "colorbar": {
              "outlinewidth": 0,
              "ticks": ""
             }
            },
            "type": "scattermapbox"
           }
          ],
          "scatterpolar": [
           {
            "marker": {
             "colorbar": {
              "outlinewidth": 0,
              "ticks": ""
             }
            },
            "type": "scatterpolar"
           }
          ],
          "scatterpolargl": [
           {
            "marker": {
             "colorbar": {
              "outlinewidth": 0,
              "ticks": ""
             }
            },
            "type": "scatterpolargl"
           }
          ],
          "scatterternary": [
           {
            "marker": {
             "colorbar": {
              "outlinewidth": 0,
              "ticks": ""
             }
            },
            "type": "scatterternary"
           }
          ],
          "surface": [
           {
            "colorbar": {
             "outlinewidth": 0,
             "ticks": ""
            },
            "colorscale": [
             [
              0,
              "#0d0887"
             ],
             [
              0.1111111111111111,
              "#46039f"
             ],
             [
              0.2222222222222222,
              "#7201a8"
             ],
             [
              0.3333333333333333,
              "#9c179e"
             ],
             [
              0.4444444444444444,
              "#bd3786"
             ],
             [
              0.5555555555555556,
              "#d8576b"
             ],
             [
              0.6666666666666666,
              "#ed7953"
             ],
             [
              0.7777777777777778,
              "#fb9f3a"
             ],
             [
              0.8888888888888888,
              "#fdca26"
             ],
             [
              1,
              "#f0f921"
             ]
            ],
            "type": "surface"
           }
          ],
          "table": [
           {
            "cells": {
             "fill": {
              "color": "#EBF0F8"
             },
             "line": {
              "color": "white"
             }
            },
            "header": {
             "fill": {
              "color": "#C8D4E3"
             },
             "line": {
              "color": "white"
             }
            },
            "type": "table"
           }
          ]
         },
         "layout": {
          "annotationdefaults": {
           "arrowcolor": "#2a3f5f",
           "arrowhead": 0,
           "arrowwidth": 1
          },
          "autotypenumbers": "strict",
          "coloraxis": {
           "colorbar": {
            "outlinewidth": 0,
            "ticks": ""
           }
          },
          "colorscale": {
           "diverging": [
            [
             0,
             "#8e0152"
            ],
            [
             0.1,
             "#c51b7d"
            ],
            [
             0.2,
             "#de77ae"
            ],
            [
             0.3,
             "#f1b6da"
            ],
            [
             0.4,
             "#fde0ef"
            ],
            [
             0.5,
             "#f7f7f7"
            ],
            [
             0.6,
             "#e6f5d0"
            ],
            [
             0.7,
             "#b8e186"
            ],
            [
             0.8,
             "#7fbc41"
            ],
            [
             0.9,
             "#4d9221"
            ],
            [
             1,
             "#276419"
            ]
           ],
           "sequential": [
            [
             0,
             "#0d0887"
            ],
            [
             0.1111111111111111,
             "#46039f"
            ],
            [
             0.2222222222222222,
             "#7201a8"
            ],
            [
             0.3333333333333333,
             "#9c179e"
            ],
            [
             0.4444444444444444,
             "#bd3786"
            ],
            [
             0.5555555555555556,
             "#d8576b"
            ],
            [
             0.6666666666666666,
             "#ed7953"
            ],
            [
             0.7777777777777778,
             "#fb9f3a"
            ],
            [
             0.8888888888888888,
             "#fdca26"
            ],
            [
             1,
             "#f0f921"
            ]
           ],
           "sequentialminus": [
            [
             0,
             "#0d0887"
            ],
            [
             0.1111111111111111,
             "#46039f"
            ],
            [
             0.2222222222222222,
             "#7201a8"
            ],
            [
             0.3333333333333333,
             "#9c179e"
            ],
            [
             0.4444444444444444,
             "#bd3786"
            ],
            [
             0.5555555555555556,
             "#d8576b"
            ],
            [
             0.6666666666666666,
             "#ed7953"
            ],
            [
             0.7777777777777778,
             "#fb9f3a"
            ],
            [
             0.8888888888888888,
             "#fdca26"
            ],
            [
             1,
             "#f0f921"
            ]
           ]
          },
          "colorway": [
           "#636efa",
           "#EF553B",
           "#00cc96",
           "#ab63fa",
           "#FFA15A",
           "#19d3f3",
           "#FF6692",
           "#B6E880",
           "#FF97FF",
           "#FECB52"
          ],
          "font": {
           "color": "#2a3f5f"
          },
          "geo": {
           "bgcolor": "white",
           "lakecolor": "white",
           "landcolor": "#E5ECF6",
           "showlakes": true,
           "showland": true,
           "subunitcolor": "white"
          },
          "hoverlabel": {
           "align": "left"
          },
          "hovermode": "closest",
          "mapbox": {
           "style": "light"
          },
          "paper_bgcolor": "white",
          "plot_bgcolor": "#E5ECF6",
          "polar": {
           "angularaxis": {
            "gridcolor": "white",
            "linecolor": "white",
            "ticks": ""
           },
           "bgcolor": "#E5ECF6",
           "radialaxis": {
            "gridcolor": "white",
            "linecolor": "white",
            "ticks": ""
           }
          },
          "scene": {
           "xaxis": {
            "backgroundcolor": "#E5ECF6",
            "gridcolor": "white",
            "gridwidth": 2,
            "linecolor": "white",
            "showbackground": true,
            "ticks": "",
            "zerolinecolor": "white"
           },
           "yaxis": {
            "backgroundcolor": "#E5ECF6",
            "gridcolor": "white",
            "gridwidth": 2,
            "linecolor": "white",
            "showbackground": true,
            "ticks": "",
            "zerolinecolor": "white"
           },
           "zaxis": {
            "backgroundcolor": "#E5ECF6",
            "gridcolor": "white",
            "gridwidth": 2,
            "linecolor": "white",
            "showbackground": true,
            "ticks": "",
            "zerolinecolor": "white"
           }
          },
          "shapedefaults": {
           "line": {
            "color": "#2a3f5f"
           }
          },
          "ternary": {
           "aaxis": {
            "gridcolor": "white",
            "linecolor": "white",
            "ticks": ""
           },
           "baxis": {
            "gridcolor": "white",
            "linecolor": "white",
            "ticks": ""
           },
           "bgcolor": "#E5ECF6",
           "caxis": {
            "gridcolor": "white",
            "linecolor": "white",
            "ticks": ""
           }
          },
          "title": {
           "x": 0.05
          },
          "xaxis": {
           "automargin": true,
           "gridcolor": "white",
           "linecolor": "white",
           "ticks": "",
           "title": {
            "standoff": 15
           },
           "zerolinecolor": "white",
           "zerolinewidth": 2
          },
          "yaxis": {
           "automargin": true,
           "gridcolor": "white",
           "linecolor": "white",
           "ticks": "",
           "title": {
            "standoff": 15
           },
           "zerolinecolor": "white",
           "zerolinewidth": 2
          }
         }
        },
        "title": {
         "text": "Parallel Coordinate Plot"
        }
       }
      }
     },
     "metadata": {},
     "output_type": "display_data"
    }
   ],
   "source": [
    "import optuna.visualization as vis\n",
    "import matplotlib.pyplot as plt\n",
    "\n",
    "# --- 6. Visualize the Tuning Results ---\n",
    "\n",
    "# Plot 1: Optimization History\n",
    "# Shows how the best score improved over the trials.\n",
    "print(\"Plotting Optimization History...\")\n",
    "fig_history = vis.plot_optimization_history(study)\n",
    "fig_history.show()\n",
    "\n",
    "# Plot 2: Parameter Importances\n",
    "# Shows which hyperparameters had the biggest impact on the final score.\n",
    "print(\"\\nPlotting Parameter Importances...\")\n",
    "fig_importance = vis.plot_param_importances(study)\n",
    "fig_importance.show()\n",
    "\n",
    "# Plot 3: Slice Plot\n",
    "# Shows how each hyperparameter individually affected the score.\n",
    "print(\"\\nPlotting Slice Plot...\")\n",
    "fig_slice = vis.plot_slice(study)\n",
    "fig_slice.show()\n",
    "\n",
    "# Plot 4: Parallel Coordinate Plot\n",
    "# Helps visualize which combinations of parameters lead to the best scores.\n",
    "print(\"\\nPlotting Parallel Coordinate Plot...\")\n",
    "fig_parallel = vis.plot_parallel_coordinate(study)\n",
    "fig_parallel.show()"
   ]
  },
  {
   "cell_type": "code",
   "execution_count": 11,
   "id": "805314f3",
   "metadata": {},
   "outputs": [
    {
     "name": "stdout",
     "output_type": "stream",
     "text": [
      "Study saved successfully!\n"
     ]
    }
   ],
   "source": [
    "import joblib\n",
    "\n",
    "# Save the entire study object to a file\n",
    "joblib.dump(study, \"completed_study.pkl\") \n",
    "print(\"Study saved successfully!\")"
   ]
  }
 ],
 "metadata": {
  "kernelspec": {
   "display_name": ".venv",
   "language": "python",
   "name": "python3"
  },
  "language_info": {
   "codemirror_mode": {
    "name": "ipython",
    "version": 3
   },
   "file_extension": ".py",
   "mimetype": "text/x-python",
   "name": "python",
   "nbconvert_exporter": "python",
   "pygments_lexer": "ipython3",
   "version": "3.9.6"
  }
 },
 "nbformat": 4,
 "nbformat_minor": 5
}
